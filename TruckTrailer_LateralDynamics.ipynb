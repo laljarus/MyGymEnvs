{
 "cells": [
  {
   "cell_type": "markdown",
   "metadata": {},
   "source": [
    "![System_DOF](TruckTrailer_Model_DoF.png)\n",
    "\n",
    "$ r_1^i = \\begin{bmatrix} x \\\\ y\\\\ 0 \\end{bmatrix} $\n",
    "\n",
    "$r_h^{b_1} = \\begin{bmatrix} -l_h \\\\ 0 \\\\ 0 \\end{bmatrix} $\n",
    "\n",
    "$R_1 =  \\begin{bmatrix} cos(\\psi_1) & -sin(\\psi_1) & 0 \\\\ sin(\\psi_1) & cos(\\psi_1) & 0 \\\\ 0 & 0 & 1 \\end{bmatrix}$\n",
    "\n",
    "$r_2^{b_2} = \\begin{bmatrix} -l_{f_2} \\\\ 0 \\\\ 0 \\end{bmatrix} $\n",
    "\n",
    "$R_2 =  \\begin{bmatrix} cos(\\psi_2) & -sin(\\psi_2) & 0 \\\\ sin(\\psi_2) & cos(\\psi_2) & 0 \\\\ 0 & 0 & 1 \\end{bmatrix}$"
   ]
  },
  {
   "cell_type": "code",
   "execution_count": 1,
   "metadata": {},
   "outputs": [
    {
     "data": {
      "text/html": [
       "<script>\n",
       "code_show=true; \n",
       "function code_toggle() {\n",
       " if (code_show){\n",
       " $('div.input').hide();\n",
       " } else {\n",
       " $('div.input').show();\n",
       " }\n",
       " code_show = !code_show\n",
       "} \n",
       "$( document ).ready(code_toggle);\n",
       "</script>\n",
       "<form action=\"javascript:code_toggle()\"><input type=\"submit\" value=\"Click here to toggle on/off the raw code.\"></form>"
      ],
      "text/plain": [
       "<IPython.core.display.HTML object>"
      ]
     },
     "execution_count": 1,
     "metadata": {},
     "output_type": "execute_result"
    }
   ],
   "source": [
    "from IPython.display import HTML\n",
    "\n",
    "HTML('''<script>\n",
    "code_show=true; \n",
    "function code_toggle() {\n",
    " if (code_show){\n",
    " $('div.input').hide();\n",
    " } else {\n",
    " $('div.input').show();\n",
    " }\n",
    " code_show = !code_show\n",
    "} \n",
    "$( document ).ready(code_toggle);\n",
    "</script>\n",
    "<form action=\"javascript:code_toggle()\"><input type=\"submit\" value=\"Click here to toggle on/off the raw code.\"></form>''')"
   ]
  },
  {
   "cell_type": "code",
   "execution_count": 2,
   "metadata": {
    "id": "lhdBNjbqGnlZ",
    "slideshow": {
     "slide_type": "skip"
    }
   },
   "outputs": [],
   "source": [
    "from sympy import *"
   ]
  },
  {
   "cell_type": "markdown",
   "metadata": {
    "id": "kqEKAbS5LGpX",
    "slideshow": {
     "slide_type": "slide"
    }
   },
   "source": [
    "# Location of Truck,Hitch and Trailer"
   ]
  },
  {
   "cell_type": "code",
   "execution_count": 3,
   "metadata": {
    "id": "YeMUilYFGzGg",
    "slideshow": {
     "slide_type": "skip"
    }
   },
   "outputs": [],
   "source": [
    "x,y,psi_1,theta,q,psi_2 = symbols('x y psi_1 theta q psi_2')"
   ]
  },
  {
   "cell_type": "code",
   "execution_count": 4,
   "metadata": {
    "id": "OGANRqDnHCY2",
    "slideshow": {
     "slide_type": "skip"
    }
   },
   "outputs": [],
   "source": [
    "#psi_2 = psi_1 + theta\n",
    "q = Matrix([x,y,psi_1,psi_2])\n",
    "r_truck_wor = Matrix([x,y,0])\n",
    "l_h = symbols('l_h')\n",
    "r_hitch_truck = Matrix([-l_h,0,0])\n",
    "R_truck = Matrix([[cos(psi_1),-sin(psi_1),0],[sin(psi_1),cos(psi_1),0],[0,0,1]])\n",
    "r_hitch_wor = r_truck_wor + R_truck*r_hitch_truck"
   ]
  },
  {
   "cell_type": "markdown",
   "metadata": {
    "slideshow": {
     "slide_type": "slide"
    }
   },
   "source": [
    "$ r_h^i = r_1^i + R_1*r_h^{b_1} $\n",
    "\n",
    "$ r_h^{b_1} = \\begin{bmatrix} -l_h.cos(\\psi_1)+x \\\\ -l_h.sin(\\psi_2)+y \\\\ 0 \\end{bmatrix} $\n",
    "\n"
   ]
  },
  {
   "cell_type": "code",
   "execution_count": 5,
   "metadata": {
    "colab": {
     "base_uri": "https://localhost:8080/",
     "height": 78
    },
    "id": "x71z0JrDJLaJ",
    "outputId": "a49bd382-e249-4cad-b028-87b610422a9e",
    "slideshow": {
     "slide_type": "skip"
    }
   },
   "outputs": [],
   "source": [
    "l_f_tr = symbols('l_f_2')\n",
    "r_trailer_hitch = Matrix([-l_f_tr,0,0])\n",
    "R_trailer = Matrix([[cos(psi_2),-sin(psi_2),0],[sin(psi_2),cos(psi_2),0],[0,0,1]])\n",
    "r_trailer_wor = r_hitch_wor + R_trailer*r_trailer_hitch"
   ]
  },
  {
   "cell_type": "markdown",
   "metadata": {
    "colab": {
     "base_uri": "https://localhost:8080/",
     "height": 78
    },
    "id": "S8rfZI4cKGLO",
    "outputId": "38526e1d-2b6a-4a79-dafc-afbc54d10a27",
    "slideshow": {
     "slide_type": "slide"
    }
   },
   "source": [
    "\n",
    "\n",
    "$ r_h^i = r_h^i + R_2*r_2^{b_2} $\n",
    "\n",
    "$ r_h^{b_1} = \\begin{bmatrix} -l_h.cos(\\psi_1)-l_{f_2}.cos(\\psi_2)+x \\\\ -l_h.sin(\\psi_1)-l_{f_2}.sin(\\psi_2)+y \\\\ 0 \\end{bmatrix} $\n",
    "\n"
   ]
  },
  {
   "cell_type": "markdown",
   "metadata": {
    "id": "vfTBvUx3LbBZ",
    "slideshow": {
     "slide_type": "slide"
    }
   },
   "source": [
    "# Translation Kinematics\n",
    "\n",
    "## Translation Jacobian of truck and trailer"
   ]
  },
  {
   "cell_type": "code",
   "execution_count": 6,
   "metadata": {
    "id": "M19YDCb_K0CL",
    "slideshow": {
     "slide_type": "skip"
    }
   },
   "outputs": [],
   "source": [
    "j_trans_truck = Matrix(diff(r_truck_wor,x))\n",
    "j_trans_truck = j_trans_truck.col_insert(2,diff(r_truck_wor,y))\n",
    "j_trans_truck = j_trans_truck.col_insert(3,diff(r_truck_wor,psi_1))\n",
    "j_trans_truck = j_trans_truck.col_insert(4,diff(r_truck_wor,psi_2))"
   ]
  },
  {
   "cell_type": "markdown",
   "metadata": {
    "slideshow": {
     "slide_type": "slide"
    }
   },
   "source": [
    "$ J_{T_1} = \\frac{\\partial r_1^i}{\\partial q} = \\begin{bmatrix} 1&0&0&0 \\\\ 0 & 1 & 0&0\\\\ 0&0&0&0 \\end{bmatrix} $\n"
   ]
  },
  {
   "cell_type": "code",
   "execution_count": 7,
   "metadata": {
    "colab": {
     "base_uri": "https://localhost:8080/",
     "height": 78
    },
    "id": "aoziFUycN9DI",
    "outputId": "794523f6-fc57-4c51-c17c-9e28bd8b6cfa",
    "slideshow": {
     "slide_type": "skip"
    }
   },
   "outputs": [],
   "source": [
    "j_trans_hitch = Matrix(diff(r_hitch_wor,x))\n",
    "j_trans_hitch = j_trans_hitch.col_insert(2,diff(r_hitch_wor,y))\n",
    "j_trans_hitch = j_trans_hitch.col_insert(3,diff(r_hitch_wor,psi_1))\n",
    "j_trans_hitch = j_trans_hitch.col_insert(4,diff(r_hitch_wor,psi_2))"
   ]
  },
  {
   "cell_type": "markdown",
   "metadata": {
    "slideshow": {
     "slide_type": "slide"
    }
   },
   "source": [
    "$ J_{T_h} = \\frac{\\partial r_h^i}{\\partial q} = \\begin{bmatrix} 1&0& l_h.sin(\\psi_1) &0 \\\\ 0 & 1 & -l_h.cos(\\psi_1) &0\\\\ 0&0&0&0 \\end{bmatrix} $"
   ]
  },
  {
   "cell_type": "code",
   "execution_count": 8,
   "metadata": {
    "colab": {
     "base_uri": "https://localhost:8080/",
     "height": 78
    },
    "id": "a4mduyD_OAsP",
    "outputId": "ac4752ee-c12f-46c2-e132-96e612ca53fe",
    "slideshow": {
     "slide_type": "skip"
    }
   },
   "outputs": [],
   "source": [
    "j_trans_trailer = Matrix(diff(r_trailer_wor,x))\n",
    "j_trans_trailer = j_trans_trailer.col_insert(2,diff(r_trailer_wor,y))\n",
    "j_trans_trailer = j_trans_trailer.col_insert(3,diff(r_trailer_wor,psi_1))\n",
    "j_trans_trailer = j_trans_trailer.col_insert(4,diff(r_trailer_wor,psi_2))\n"
   ]
  },
  {
   "cell_type": "markdown",
   "metadata": {},
   "source": [
    "$ J_{T_2} = \\frac{\\partial r_h^i}{\\partial q} = \\begin{bmatrix} 1&0& l_h.sin(\\psi_1) & l_{f_2}.sin(\\psi_2)  \\\\ 0 & 1 & -l_h.cos(\\psi_1) & -l_{f_2}.cos(\\psi_2) \\\\ 0&0&0&0 \\end{bmatrix} $"
   ]
  },
  {
   "cell_type": "code",
   "execution_count": 9,
   "metadata": {
    "id": "tEANtSJBOCa1"
   },
   "outputs": [],
   "source": [
    "q_dot,x_dot,y_dot = symbols('\\dot{q} \\dot{x} \\dot{y}')\n",
    "psi_2_dot = symbols(r\"\\dot{\\psi_2}\")\n",
    "psi_1_dot   = symbols(r\"\\dot{\\psi_1}\")\n",
    "q_dot = Matrix([x_dot,y_dot,psi_1_dot,psi_2_dot])\n",
    "v_hitch_wor =  j_trans_hitch*q_dot\n",
    "v_truck_wor = j_trans_truck*q_dot\n",
    "v_trailer_wor = j_trans_trailer*q_dot"
   ]
  },
  {
   "cell_type": "markdown",
   "metadata": {},
   "source": [
    "$ \\dot{q} = \\begin{bmatrix} \\dot{x} \\\\ \\dot{y} \\\\ \\dot{\\psi_1} \\\\ \\dot{\\psi_2}  \\end{bmatrix} $"
   ]
  },
  {
   "cell_type": "markdown",
   "metadata": {},
   "source": [
    "$ v_{s_i} = J_{T_i}(q,t)\\dot{q} + \\bar{v_{s_i}}(q,t) $\n",
    "\n",
    "$ v_1 = \\begin{bmatrix} \\dot{x} \\\\ \\dot{y}\\\\ 0 \\end{bmatrix} $\n",
    "\n",
    "$ v_h^i = \\begin{bmatrix} \\dot{\\psi_1}.l_h.sin(\\psi_1)+\\dot{x} \\\\ -\\dot{\\psi_1}.l_h.cos(\\psi_1)+\\dot{y} \\\\ 0 \\end{bmatrix} $\n",
    "\n",
    "$ v_2^i = \\begin{bmatrix} \\dot{\\psi_1}.l_h.sin(\\psi_1)+\\dot{\\psi_2}.l_{f_2}.sin(\\psi_2) +\\dot{x} \\\\ -\\dot{\\psi_1}.l_h.cos(\\psi_1)- \\dot{\\psi_2}.l_{f_2}.cos(\\psi_2) +\\dot{y} \\\\ 0 \\end{bmatrix} $\n"
   ]
  },
  {
   "cell_type": "code",
   "execution_count": 10,
   "metadata": {
    "id": "-rsQL1Q-WFmU"
   },
   "outputs": [],
   "source": [
    "q_ddot,x_ddot,y_ddot = symbols('\\ddot{q} \\ddot{x} \\ddot{y}')\n",
    "psi_2_ddot = symbols(r\"\\ddot{\\psi_2}\")\n",
    "psi_1_ddot   = symbols(r\"\\ddot{\\psi_1}\")\n",
    "q_ddot = Matrix([x_ddot,y_ddot,psi_1_ddot,psi_2_ddot])\n",
    "j_trans_truck_dot = Matrix(zeros(3,4))\n",
    "v_dot_truck_wor = j_trans_truck*q_ddot + j_trans_truck_dot*q_dot"
   ]
  },
  {
   "cell_type": "markdown",
   "metadata": {},
   "source": [
    "$ \\dot{v_{s_i}} = J_{T_i}\\ddot{q} + \\dot{J_{T_I}}\\dot{q}  + \\dot{\\bar{v_{s_i}}} $\n",
    "\n",
    "$ \\ddot{q} = \\begin{bmatrix} \\ddot{x} \\\\ \\ddot{y} \\\\ \\ddot{\\psi_1} \\\\ \\ddot{\\psi_2}  \\end{bmatrix} $\n",
    "\n",
    "$ \\dot{J_{T_1}} = \\begin{bmatrix} 0&0&0&0 \\\\ 0&0&0&0 \\\\ 0&0&0&0  \\end{bmatrix}   $\n",
    "\n",
    "$ \\dot{v_1} = \\begin{bmatrix} \\ddot{x} \\\\ \\ddot{y} \\\\ 0  \\end{bmatrix}   $"
   ]
  },
  {
   "cell_type": "markdown",
   "metadata": {},
   "source": [
    "$ \\dot{J_{T_h}} = \\begin{bmatrix} 0&0& \\dot{\\psi_1}.l_h.cos(\\psi_1) &0 \\\\ 0&0&\\dot{\\psi_1}.l_h.sin(\\psi_1)&0 \\\\ 0&0&0&0  \\end{bmatrix}   $\n",
    "\n",
    "$ \\dot{v_h} = \\begin{bmatrix} \\ddot{\\psi_1}.l_h.sin(\\psi_1)+ \\dot{\\psi_1}^2.l_h.cos(\\psi_1) + \\ddot{x} \\\\\n",
    "-\\ddot{\\psi_1}.l_h.cos(\\psi_1)+ \\dot{\\psi_1}^2.l_h.sin(\\psi_1) +\\ddot{y} \\\\\n",
    "0 \\end{bmatrix} $"
   ]
  },
  {
   "cell_type": "markdown",
   "metadata": {},
   "source": [
    "$ \\dot{J_{T_2}} = \\begin{bmatrix} 0&0& \\dot{\\psi_1}.l_h.cos(\\psi_1) & \\dot{\\psi_2}.l_{f_2}.cos(\\psi_2) \\\\\n",
    "0&0& \\dot{\\psi_1}.l_h.sin(\\psi_1) & \\dot{\\psi_2}.l_{f_2}.sin(\\psi_2) \\\\\n",
    "0&0&0&0 \\end{bmatrix} $\n",
    "\n",
    "$ \\dot{v_2} = \\begin{bmatrix} \\ddot{\\psi_1}.l_h.sin(\\psi_1) +\\ddot{\\psi_2}.l_{f_2}.sin(\\psi_2) + \\dot{\\psi_1}^2.l_h.cos(\\psi_1) + \\dot{\\psi_2}^2.l_{f_2}.cos(\\psi_2)  + \\ddot{x} \\\\\n",
    "-\\ddot{\\psi_1}.l_h.cos(\\psi_1)-\\ddot{\\psi_2}.l_{f_2}.cos(\\psi_2)+ \\dot{\\psi_1}^2.l_h.sin(\\psi_1)+\\dot{\\psi_2}^2.l_{f_2}.sin(\\psi_2) +\\ddot{y} \\\\\n",
    "0 \\end{bmatrix} $\n"
   ]
  },
  {
   "cell_type": "code",
   "execution_count": 11,
   "metadata": {},
   "outputs": [],
   "source": [
    "j_trans_hitch_dot = Matrix([[0,0,l_h*cos(psi_1)*psi_1_dot,0],[0,0,l_h*sin(psi_1)*psi_1_dot,0],[0,0,0,0]])\n",
    "j_trans_trailer_dot = Matrix([[0,0,l_h*cos(psi_1)*psi_1_dot,l_f_tr*cos(psi_2)*psi_2_dot],\n",
    "                              [0,0,l_h*sin(psi_1)*psi_1_dot,l_f_tr*sin(psi_2)*psi_2_dot],[0,0,0,0]])"
   ]
  },
  {
   "cell_type": "code",
   "execution_count": 12,
   "metadata": {},
   "outputs": [],
   "source": [
    "v_dot_hitch_wor = j_trans_hitch *q_ddot + j_trans_hitch_dot*q_dot\n",
    "v_dot_trailer_wor = j_trans_trailer*q_ddot + j_trans_trailer_dot*q_dot"
   ]
  },
  {
   "cell_type": "markdown",
   "metadata": {},
   "source": [
    "## Rotational Kinematics"
   ]
  },
  {
   "cell_type": "code",
   "execution_count": 13,
   "metadata": {
    "scrolled": true
   },
   "outputs": [],
   "source": [
    "j_rot_truck_q1 = diff(R_truck,x)*R_truck.transpose()\n",
    "j_rot_truck_q2 = diff(R_truck,y)*R_truck.transpose()\n",
    "j_rot_truck_q3 = diff(R_truck,psi_1)*R_truck.transpose()\n",
    "j_rot_truck_q4 = diff(R_truck,psi_2)*R_truck.transpose()\n",
    "j_rot_truck = Matrix([[0,0,0],[0,0,0],[0,0,1],[0,0,0]]).transpose()"
   ]
  },
  {
   "cell_type": "markdown",
   "metadata": {},
   "source": [
    "$ J_{R_1} = \\begin{bmatrix} 0&0&0&0 \\\\ 0&0&0&0 \\\\ 0&0&1&0 \\end{bmatrix} $\n",
    "\n",
    "\n",
    "$ \\omega_1^i = \\begin{bmatrix} 0\\\\0\\\\ \\dot{\\psi_1} \\end{bmatrix} $\n",
    "\n",
    "$ \\dot{\\omega_1}^i = \\begin{bmatrix} 0\\\\0\\\\ \\ddot{\\psi_1} \\end{bmatrix} $"
   ]
  },
  {
   "cell_type": "markdown",
   "metadata": {},
   "source": [
    "$ J_{R_2} = \\begin{bmatrix} 0&0&0&0 \\\\ 0&0&0&0 \\\\ 0&0&0&1 \\end{bmatrix} $\n",
    "\n",
    "\n",
    "$ \\omega_2^i = \\begin{bmatrix} 0\\\\0\\\\ \\dot{\\psi_2} \\end{bmatrix} $\n",
    "\n",
    "$ \\dot{\\omega_2}^i = \\begin{bmatrix} 0\\\\0\\\\ \\ddot{\\psi_2} \\end{bmatrix} $"
   ]
  },
  {
   "cell_type": "markdown",
   "metadata": {},
   "source": [
    "$J_{Tot} = \\begin{bmatrix} J_{T_1}^T& J_{T_2}^T& J_{R_1}^T& J_{R_2}^T \\end{bmatrix}$"
   ]
  },
  {
   "cell_type": "code",
   "execution_count": 14,
   "metadata": {},
   "outputs": [],
   "source": [
    "j_rot_truck_dot = zeros(3,4)\n",
    "j_rot_trailer_q1 = diff(R_trailer,x)*R_trailer.transpose()\n",
    "j_rot_trailer_q2 = diff(R_trailer,y)*R_trailer.transpose()\n",
    "j_rot_trailer_q3 = diff(R_trailer,psi_1)*R_trailer.transpose()\n",
    "j_rot_trailer_q4 = diff(R_trailer,psi_2)*R_trailer.transpose()\n",
    "j_rot_trailer_q4.simplify()\n",
    "j_rot_trailer = Matrix([[0,0,0],[0,0,0],[0,0,0],[0,0,1]]).transpose()\n",
    "j_rot_trailer_dot = zeros(3,4)"
   ]
  },
  {
   "cell_type": "code",
   "execution_count": 15,
   "metadata": {},
   "outputs": [],
   "source": [
    "w_truck = j_rot_truck*q_dot\n",
    "w_trailer = j_rot_trailer*q_dot\n",
    "w_dot_truck = j_rot_truck*q_ddot + j_rot_truck_dot*q_dot\n",
    "w_dot_trailer = j_rot_trailer*q_ddot + j_rot_trailer_dot*q_dot\n"
   ]
  },
  {
   "cell_type": "code",
   "execution_count": 16,
   "metadata": {},
   "outputs": [],
   "source": [
    "j_total = j_trans_truck.transpose().row_join(j_trans_trailer.transpose())\n",
    "j_total = j_total.row_join(j_rot_truck.transpose())\n",
    "j_total = j_total.row_join(j_rot_trailer.transpose())"
   ]
  },
  {
   "cell_type": "code",
   "execution_count": 17,
   "metadata": {
    "scrolled": true
   },
   "outputs": [
    {
     "data": {
      "text/latex": [
       "$\\displaystyle \\left[\\begin{array}{cccccccccccc}1 & 0 & 0 & 1 & 0 & 0 & 0 & 0 & 0 & 0 & 0 & 0\\\\0 & 1 & 0 & 0 & 1 & 0 & 0 & 0 & 0 & 0 & 0 & 0\\\\0 & 0 & 0 & l_{h} \\sin{\\left(\\psi_{1} \\right)} & - l_{h} \\cos{\\left(\\psi_{1} \\right)} & 0 & 0 & 0 & 1 & 0 & 0 & 0\\\\0 & 0 & 0 & l_{f 2} \\sin{\\left(\\psi_{2} \\right)} & - l_{f 2} \\cos{\\left(\\psi_{2} \\right)} & 0 & 0 & 0 & 0 & 0 & 0 & 1\\end{array}\\right]$"
      ],
      "text/plain": [
       "Matrix([\n",
       "[1, 0, 0,                1,                 0, 0, 0, 0, 0, 0, 0, 0],\n",
       "[0, 1, 0,                0,                 1, 0, 0, 0, 0, 0, 0, 0],\n",
       "[0, 0, 0,   l_h*sin(psi_1),   -l_h*cos(psi_1), 0, 0, 0, 1, 0, 0, 0],\n",
       "[0, 0, 0, l_f_2*sin(psi_2), -l_f_2*cos(psi_2), 0, 0, 0, 0, 0, 0, 1]])"
      ]
     },
     "execution_count": 17,
     "metadata": {},
     "output_type": "execute_result"
    }
   ],
   "source": [
    "j_total"
   ]
  },
  {
   "cell_type": "markdown",
   "metadata": {},
   "source": [
    "## Forces on Truck and Trailer\n",
    "\n",
    "![System_Forces](TruckTrailer_Model_Forces.png)"
   ]
  },
  {
   "cell_type": "markdown",
   "metadata": {},
   "source": [
    "## Sum of all forces on Truck and trailer in the intertial frame\n",
    "\n",
    "$$ \\sum{f_{truck}^o} = R_{\\psi_1}*(f_{f_1} +f_{r_1} )  + f_{12} $$\n",
    "\n",
    "$$ f_{f_1} = R_{\\delta}* (f_{steer_1} + f_{Roll_1} ) + f_{air_1} $$\n",
    "\n",
    "$$ \\sum{f_{trailer}^o = R_{\\psi_2}* f_{r_2} + f_{12}   } $$"
   ]
  },
  {
   "cell_type": "code",
   "execution_count": 26,
   "metadata": {},
   "outputs": [
    {
     "data": {
      "text/latex": [
       "$\\displaystyle \\left[\\begin{matrix}f_{air 1} + f_{roll 1} \\cos{\\left(\\delta \\right)} - f_{steer 1} \\sin{\\left(\\delta \\right)}\\\\f_{roll 1} \\sin{\\left(\\delta \\right)} + f_{steer 1} \\cos{\\left(\\delta \\right)}\\\\0\\end{matrix}\\right]$"
      ],
      "text/plain": [
       "Matrix([\n",
       "[f_air_1 + f_roll_1*cos(delta) - f_steer_1*sin(delta)],\n",
       "[          f_roll_1*sin(delta) + f_steer_1*cos(delta)],\n",
       "[                                                   0]])"
      ]
     },
     "execution_count": 26,
     "metadata": {},
     "output_type": "execute_result"
    }
   ],
   "source": [
    "f_roll_1, f_steer_1,f_air_1 = symbols('f_roll_1 f_steer_1 f_air_1')\n",
    "delta = symbols('delta')\n",
    "f_f_wh = Matrix([f_roll_1,f_steer_1,0])\n",
    "R_f_wheel = Matrix([[cos(delta),-sin(delta),0],[sin(delta),cos(delta),0],[0,0,1]])\n",
    "f_a_1 = Matrix([f_air_1,0,0])\n",
    "f_f1 = R_f_wheel*f_f_wh + f_a_1\n",
    "f_f1\n"
   ]
  },
  {
   "cell_type": "code",
   "execution_count": 33,
   "metadata": {},
   "outputs": [
    {
     "data": {
      "text/latex": [
       "$\\displaystyle \\left[\\begin{matrix}- F_{f x 1}\\\\F_{f y 1}\\\\0\\end{matrix}\\right]$"
      ],
      "text/plain": [
       "Matrix([\n",
       "[-F_f_x_1],\n",
       "[ F_f_y_1],\n",
       "[       0]])"
      ]
     },
     "execution_count": 33,
     "metadata": {},
     "output_type": "execute_result"
    }
   ],
   "source": [
    "F_f_x_1,F_f_y_1 = symbols('F_f_x_1,F_f_y_1')\n",
    "f_f_1 = Matrix([-F_f_x_1,F_f_y_1,0]) \n",
    "f_f_1"
   ]
  },
  {
   "cell_type": "code",
   "execution_count": 34,
   "metadata": {},
   "outputs": [
    {
     "data": {
      "text/latex": [
       "$\\displaystyle \\left[\\begin{matrix}F_{r x 1}\\\\F_{r y 1}\\\\0\\end{matrix}\\right]$"
      ],
      "text/plain": [
       "Matrix([\n",
       "[F_r_x_1],\n",
       "[F_r_y_1],\n",
       "[      0]])"
      ]
     },
     "execution_count": 34,
     "metadata": {},
     "output_type": "execute_result"
    }
   ],
   "source": [
    "F_r_x_1,F_r_y_1 = symbols('F_r_x_1,F_r_y_1')\n",
    "f_r_1 = Matrix([F_r_x_1,F_r_y_1,0]) \n",
    "f_r_1"
   ]
  },
  {
   "cell_type": "code",
   "execution_count": 35,
   "metadata": {},
   "outputs": [
    {
     "data": {
      "text/latex": [
       "$\\displaystyle \\left[\\begin{matrix}- F_{x 12}\\\\- F_{y 12}\\\\0\\end{matrix}\\right]$"
      ],
      "text/plain": [
       "Matrix([\n",
       "[-F_x_12],\n",
       "[-F_y_12],\n",
       "[      0]])"
      ]
     },
     "execution_count": 35,
     "metadata": {},
     "output_type": "execute_result"
    }
   ],
   "source": [
    "F_x_12,F_y_12 = symbols('F_x_12,F_y_12')\n",
    "f_h_1 = Matrix([-F_x_12,-F_y_12,0]) \n",
    "f_h_1"
   ]
  },
  {
   "cell_type": "code",
   "execution_count": 36,
   "metadata": {},
   "outputs": [
    {
     "data": {
      "text/latex": [
       "$\\displaystyle \\left[\\begin{matrix}- F_{x 12} + \\left(- F_{f x 1} + F_{r x 1}\\right) \\cos{\\left(\\psi_{1} \\right)} - \\left(F_{f y 1} + F_{r y 1}\\right) \\sin{\\left(\\psi_{1} \\right)}\\\\- F_{y 12} + \\left(- F_{f x 1} + F_{r x 1}\\right) \\sin{\\left(\\psi_{1} \\right)} + \\left(F_{f y 1} + F_{r y 1}\\right) \\cos{\\left(\\psi_{1} \\right)}\\\\0\\end{matrix}\\right]$"
      ],
      "text/plain": [
       "Matrix([\n",
       "[-F_x_12 + (-F_f_x_1 + F_r_x_1)*cos(psi_1) - (F_f_y_1 + F_r_y_1)*sin(psi_1)],\n",
       "[-F_y_12 + (-F_f_x_1 + F_r_x_1)*sin(psi_1) + (F_f_y_1 + F_r_y_1)*cos(psi_1)],\n",
       "[                                                                         0]])"
      ]
     },
     "execution_count": 36,
     "metadata": {},
     "output_type": "execute_result"
    }
   ],
   "source": [
    "f_tot_1_i = R_truck*(f_f_1 + f_r_1) + f_h_1\n",
    "f_tot_1_i"
   ]
  },
  {
   "cell_type": "markdown",
   "metadata": {},
   "source": [
    "### Translation of Truck\n",
    "$$ m_i.J_{Ti}.\\ddot{q} + m_i.\\dot{J_{Ti}}.\\dot{q} + m_i\\dot{\\bar{v_{si}}} = f_{iP} $$"
   ]
  },
  {
   "cell_type": "code",
   "execution_count": 44,
   "metadata": {},
   "outputs": [],
   "source": [
    "m_truck = symbols('m_truck')\n",
    "#ma_truck = m_truck*j_trans_truck*q_ddot+m_truck*j_trans_truck_dot*q_dot \n",
    "ma_truck = m_truck*v_dot_truck_wor"
   ]
  },
  {
   "cell_type": "code",
   "execution_count": 45,
   "metadata": {},
   "outputs": [
    {
     "data": {
      "text/latex": [
       "$\\displaystyle \\left[\\begin{matrix}\\ddot{x} m_{truck}\\\\\\ddot{y} m_{truck}\\\\0\\end{matrix}\\right] = \\left[\\begin{matrix}- F_{x 12} + \\left(- F_{f x 1} + F_{r x 1}\\right) \\cos{\\left(\\psi_{1} \\right)} - \\left(F_{f y 1} + F_{r y 1}\\right) \\sin{\\left(\\psi_{1} \\right)}\\\\- F_{y 12} + \\left(- F_{f x 1} + F_{r x 1}\\right) \\sin{\\left(\\psi_{1} \\right)} + \\left(F_{f y 1} + F_{r y 1}\\right) \\cos{\\left(\\psi_{1} \\right)}\\\\0\\end{matrix}\\right]$"
      ],
      "text/plain": [
       "Eq(Matrix([\n",
       "[\\ddot{x}*m_truck],\n",
       "[\\ddot{y}*m_truck],\n",
       "[               0]]), Matrix([\n",
       "[-F_x_12 + (-F_f_x_1 + F_r_x_1)*cos(psi_1) - (F_f_y_1 + F_r_y_1)*sin(psi_1)],\n",
       "[-F_y_12 + (-F_f_x_1 + F_r_x_1)*sin(psi_1) + (F_f_y_1 + F_r_y_1)*cos(psi_1)],\n",
       "[                                                                         0]]))"
      ]
     },
     "execution_count": 45,
     "metadata": {},
     "output_type": "execute_result"
    }
   ],
   "source": [
    "Eq(ma_truck,f_tot_1_i)"
   ]
  },
  {
   "cell_type": "markdown",
   "metadata": {},
   "source": [
    "## Equation of Rotational motion of truck"
   ]
  },
  {
   "cell_type": "code",
   "execution_count": 54,
   "metadata": {},
   "outputs": [
    {
     "data": {
      "text/latex": [
       "$\\displaystyle \\left[\\begin{matrix}0\\\\0\\\\Izz_{truck} \\ddot{\\psi_1}\\end{matrix}\\right] = \\left[\\begin{matrix}0\\\\0\\\\F_{f y 1} l_{f1} - F_{r y 1} l_{r1} - F_{x 12} l_{h} \\sin{\\left(\\psi_{1} \\right)} + F_{y 12} l_{h} \\cos{\\left(\\psi_{1} \\right)}\\end{matrix}\\right]$"
      ],
      "text/plain": [
       "Eq(Matrix([\n",
       "[                      0],\n",
       "[                      0],\n",
       "[Izz_truck*\\ddot{\\psi_1}]]), Matrix([\n",
       "[                                                                          0],\n",
       "[                                                                          0],\n",
       "[F_f_y_1*l_f1 - F_r_y_1*l_r1 - F_x_12*l_h*sin(psi_1) + F_y_12*l_h*cos(psi_1)]]))"
      ]
     },
     "execution_count": 54,
     "metadata": {},
     "output_type": "execute_result"
    }
   ],
   "source": [
    "l_f1,l_r1 = symbols('l_f1 l_r1')\n",
    "\n",
    "r_f_b1 = Matrix([l_f1,0,0])\n",
    "r_r_b1 = Matrix([-l_r1,0,0])\n",
    "\n",
    "r_f_p = R_truck* r_f_b1\n",
    "r_r_p = R_truck * r_r_b1\n",
    "r_h_p = R_truck * r_hitch_truck\n",
    "\n",
    "\n",
    "Ixx_truck,Iyy_truck,Izz_truck = symbols('Ixx_truck Iyy_truck Izz_truck ')\n",
    "\n",
    "I_truck_body = Matrix([[Ixx_truck,0,0],[0,Iyy_truck,0],[0,0,Izz_truck]])\n",
    "I_truck_i = R_truck*I_truck_body*R_truck.transpose()\n",
    "\n",
    "w_hat_truck = Matrix([[0,-psi_1_dot,0],[psi_1_dot,0,0],[0,0,0]])\n",
    "I_alpha_truck = I_truck_i*w_dot_truck + w_hat_truck*I_truck_i*w_truck\n",
    "\n",
    "M_truck_i = r_f_p.cross(R_truck*f_f_1) + r_r_p.cross(R_truck*f_r_1) + r_h_p.cross(f_h_1)\n",
    "M_truck_i.simplify()\n",
    "Eq(I_alpha_truck,M_truck_i)"
   ]
  },
  {
   "cell_type": "markdown",
   "metadata": {},
   "source": [
    "## Equation of Translation motion of trailer"
   ]
  },
  {
   "cell_type": "code",
   "execution_count": 55,
   "metadata": {},
   "outputs": [
    {
     "data": {
      "text/latex": [
       "$\\displaystyle \\left[\\begin{matrix}F_{x 12}\\\\F_{y 12}\\\\0\\end{matrix}\\right]$"
      ],
      "text/plain": [
       "Matrix([\n",
       "[F_x_12],\n",
       "[F_y_12],\n",
       "[     0]])"
      ]
     },
     "execution_count": 55,
     "metadata": {},
     "output_type": "execute_result"
    }
   ],
   "source": [
    "f_f_2 = Matrix([F_x_12,F_y_12,0]) \n",
    "f_f_2"
   ]
  },
  {
   "cell_type": "code",
   "execution_count": 58,
   "metadata": {},
   "outputs": [
    {
     "data": {
      "text/latex": [
       "$\\displaystyle \\left[\\begin{matrix}F_{r x 2}\\\\F_{r y 2}\\\\0\\end{matrix}\\right]$"
      ],
      "text/plain": [
       "Matrix([\n",
       "[F_r_x_2],\n",
       "[F_r_y_2],\n",
       "[      0]])"
      ]
     },
     "execution_count": 58,
     "metadata": {},
     "output_type": "execute_result"
    }
   ],
   "source": [
    "F_r_x_2,F_r_y_2 = symbols('F_r_x_2,F_r_y_2')\n",
    "f_r_2 = Matrix([F_r_x_2,F_r_y_2,0]) \n",
    "f_r_2"
   ]
  },
  {
   "cell_type": "code",
   "execution_count": 61,
   "metadata": {},
   "outputs": [
    {
     "data": {
      "text/latex": [
       "$\\displaystyle \\left[\\begin{matrix}F_{r x 2} \\cos{\\left(\\psi_{2} \\right)} - F_{r y 2} \\sin{\\left(\\psi_{2} \\right)} + F_{x 12}\\\\F_{r x 2} \\sin{\\left(\\psi_{2} \\right)} + F_{r y 2} \\cos{\\left(\\psi_{2} \\right)} + F_{y 12}\\\\0\\end{matrix}\\right]$"
      ],
      "text/plain": [
       "Matrix([\n",
       "[F_r_x_2*cos(psi_2) - F_r_y_2*sin(psi_2) + F_x_12],\n",
       "[F_r_x_2*sin(psi_2) + F_r_y_2*cos(psi_2) + F_y_12],\n",
       "[                                               0]])"
      ]
     },
     "execution_count": 61,
     "metadata": {},
     "output_type": "execute_result"
    }
   ],
   "source": [
    "f_tot_2_i =f_f_2 +  R_trailer*(f_r_2)\n",
    "f_tot_2_i"
   ]
  },
  {
   "cell_type": "code",
   "execution_count": 63,
   "metadata": {},
   "outputs": [
    {
     "data": {
      "text/latex": [
       "$\\displaystyle \\left[\\begin{matrix}m_{trailer} \\left(\\ddot{\\psi_1} l_{h} \\sin{\\left(\\psi_{1} \\right)} + \\ddot{\\psi_2} l_{f 2} \\sin{\\left(\\psi_{2} \\right)} + \\ddot{x} + \\dot{\\psi_1}^{2} l_{h} \\cos{\\left(\\psi_{1} \\right)} + \\dot{\\psi_2}^{2} l_{f 2} \\cos{\\left(\\psi_{2} \\right)}\\right)\\\\m_{trailer} \\left(- \\ddot{\\psi_1} l_{h} \\cos{\\left(\\psi_{1} \\right)} - \\ddot{\\psi_2} l_{f 2} \\cos{\\left(\\psi_{2} \\right)} + \\ddot{y} + \\dot{\\psi_1}^{2} l_{h} \\sin{\\left(\\psi_{1} \\right)} + \\dot{\\psi_2}^{2} l_{f 2} \\sin{\\left(\\psi_{2} \\right)}\\right)\\\\0\\end{matrix}\\right] = \\left[\\begin{matrix}F_{r x 2} \\cos{\\left(\\psi_{2} \\right)} - F_{r y 2} \\sin{\\left(\\psi_{2} \\right)} + F_{x 12}\\\\F_{r x 2} \\sin{\\left(\\psi_{2} \\right)} + F_{r y 2} \\cos{\\left(\\psi_{2} \\right)} + F_{y 12}\\\\0\\end{matrix}\\right]$"
      ],
      "text/plain": [
       "Eq(Matrix([\n",
       "[ m_trailer*(\\ddot{\\psi_1}*l_h*sin(psi_1) + \\ddot{\\psi_2}*l_f_2*sin(psi_2) + \\ddot{x} + \\dot{\\psi_1}**2*l_h*cos(psi_1) + \\dot{\\psi_2}**2*l_f_2*cos(psi_2))],\n",
       "[m_trailer*(-\\ddot{\\psi_1}*l_h*cos(psi_1) - \\ddot{\\psi_2}*l_f_2*cos(psi_2) + \\ddot{y} + \\dot{\\psi_1}**2*l_h*sin(psi_1) + \\dot{\\psi_2}**2*l_f_2*sin(psi_2))],\n",
       "[                                                                                                                                                        0]]), Matrix([\n",
       "[F_r_x_2*cos(psi_2) - F_r_y_2*sin(psi_2) + F_x_12],\n",
       "[F_r_x_2*sin(psi_2) + F_r_y_2*cos(psi_2) + F_y_12],\n",
       "[                                               0]]))"
      ]
     },
     "execution_count": 63,
     "metadata": {},
     "output_type": "execute_result"
    }
   ],
   "source": [
    "m_trailer = symbols('m_trailer')\n",
    "\n",
    "ma_trailer = m_trailer*v_dot_trailer_wor\n",
    "Eq(ma_trailer,f_tot_2_i)"
   ]
  },
  {
   "cell_type": "markdown",
   "metadata": {},
   "source": [
    "## Rotation of the trailer"
   ]
  },
  {
   "cell_type": "code",
   "execution_count": 67,
   "metadata": {},
   "outputs": [
    {
     "data": {
      "text/latex": [
       "$\\displaystyle \\left[\\begin{matrix}0\\\\0\\\\- F_{r y 2} l_{r2} - F_{x 12} l_{f 2} \\sin{\\left(\\psi_{2} \\right)} + F_{y 12} l_{f 2} \\cos{\\left(\\psi_{2} \\right)}\\end{matrix}\\right]$"
      ],
      "text/plain": [
       "Matrix([\n",
       "[                                                                0],\n",
       "[                                                                0],\n",
       "[-F_r_y_2*l_r2 - F_x_12*l_f_2*sin(psi_2) + F_y_12*l_f_2*cos(psi_2)]])"
      ]
     },
     "execution_count": 67,
     "metadata": {},
     "output_type": "execute_result"
    }
   ],
   "source": [
    "l_f2,l_r2 = symbols('l_f_2 l_r2')\n",
    "\n",
    "r_f_2_b2 = Matrix([l_f2,0,0])\n",
    "r_r_2_b2 = Matrix([-l_r2,0,0])\n",
    "\n",
    "\n",
    "r_f_2_p = R_trailer* r_f_2_b2\n",
    "r_r_2_p = R_trailer * r_r_2_b2\n",
    "\n",
    "\n",
    "M_trailer_i = r_f_2_p.cross(f_f_2) + r_r_2_p.cross(R_trailer*f_r_2)\n",
    "M_trailer_i.simplify()\n",
    "M_trailer_i"
   ]
  },
  {
   "cell_type": "code",
   "execution_count": 68,
   "metadata": {},
   "outputs": [
    {
     "data": {
      "text/latex": [
       "$\\displaystyle \\left[\\begin{matrix}0 & - \\dot{\\psi_2} & 0\\\\\\dot{\\psi_2} & 0 & 0\\\\0 & 0 & 0\\end{matrix}\\right]$"
      ],
      "text/plain": [
       "Matrix([\n",
       "[           0, -\\dot{\\psi_2}, 0],\n",
       "[\\dot{\\psi_2},             0, 0],\n",
       "[           0,             0, 0]])"
      ]
     },
     "execution_count": 68,
     "metadata": {},
     "output_type": "execute_result"
    }
   ],
   "source": [
    "Ixx_trailer,Iyy_trailer,Izz_trailer = symbols('Ixx_trailer Iyy_trailer Izz_trailer ')\n",
    "\n",
    "I_trailer_body = Matrix([[Ixx_trailer,0,0],[0,Iyy_trailer,0],[0,0,Izz_trailer]])\n",
    "I_trailer_wor = R_trailer*I_trailer_body*R_trailer.transpose()\n",
    "\n",
    "w_hat_trailer = Matrix([[0,-psi_2_dot,0],[psi_2_dot,0,0],[0,0,0]])\n",
    "w_hat_trailer"
   ]
  },
  {
   "cell_type": "code",
   "execution_count": 69,
   "metadata": {},
   "outputs": [
    {
     "data": {
      "text/latex": [
       "$\\displaystyle \\left[\\begin{matrix}0\\\\0\\\\Izz_{trailer} \\ddot{\\psi_2}\\end{matrix}\\right] = \\left[\\begin{matrix}0\\\\0\\\\- F_{r y 2} l_{r2} - F_{x 12} l_{f 2} \\sin{\\left(\\psi_{2} \\right)} + F_{y 12} l_{f 2} \\cos{\\left(\\psi_{2} \\right)}\\end{matrix}\\right]$"
      ],
      "text/plain": [
       "Eq(Matrix([\n",
       "[                        0],\n",
       "[                        0],\n",
       "[Izz_trailer*\\ddot{\\psi_2}]]), Matrix([\n",
       "[                                                                0],\n",
       "[                                                                0],\n",
       "[-F_r_y_2*l_r2 - F_x_12*l_f_2*sin(psi_2) + F_y_12*l_f_2*cos(psi_2)]]))"
      ]
     },
     "execution_count": 69,
     "metadata": {},
     "output_type": "execute_result"
    }
   ],
   "source": [
    "I_alpha_trailer = I_trailer_wor*w_dot_trailer + w_hat_trailer*I_trailer_wor*w_trailer\n",
    "Eq(I_alpha_trailer,M_trailer_i)"
   ]
  },
  {
   "cell_type": "code",
   "execution_count": 70,
   "metadata": {},
   "outputs": [
    {
     "data": {
      "text/latex": [
       "$\\displaystyle \\left[\\begin{matrix}\\ddot{x} m_{truck}\\\\\\ddot{y} m_{truck}\\\\0\\\\m_{trailer} \\left(\\ddot{\\psi_1} l_{h} \\sin{\\left(\\psi_{1} \\right)} + \\ddot{\\psi_2} l_{f 2} \\sin{\\left(\\psi_{2} \\right)} + \\ddot{x} + \\dot{\\psi_1}^{2} l_{h} \\cos{\\left(\\psi_{1} \\right)} + \\dot{\\psi_2}^{2} l_{f 2} \\cos{\\left(\\psi_{2} \\right)}\\right)\\\\m_{trailer} \\left(- \\ddot{\\psi_1} l_{h} \\cos{\\left(\\psi_{1} \\right)} - \\ddot{\\psi_2} l_{f 2} \\cos{\\left(\\psi_{2} \\right)} + \\ddot{y} + \\dot{\\psi_1}^{2} l_{h} \\sin{\\left(\\psi_{1} \\right)} + \\dot{\\psi_2}^{2} l_{f 2} \\sin{\\left(\\psi_{2} \\right)}\\right)\\\\0\\\\0\\\\0\\\\Izz_{truck} \\ddot{\\psi_1}\\\\0\\\\0\\\\Izz_{trailer} \\ddot{\\psi_2}\\end{matrix}\\right]$"
      ],
      "text/plain": [
       "Matrix([\n",
       "[                                                                                                                                         \\ddot{x}*m_truck],\n",
       "[                                                                                                                                         \\ddot{y}*m_truck],\n",
       "[                                                                                                                                                        0],\n",
       "[ m_trailer*(\\ddot{\\psi_1}*l_h*sin(psi_1) + \\ddot{\\psi_2}*l_f_2*sin(psi_2) + \\ddot{x} + \\dot{\\psi_1}**2*l_h*cos(psi_1) + \\dot{\\psi_2}**2*l_f_2*cos(psi_2))],\n",
       "[m_trailer*(-\\ddot{\\psi_1}*l_h*cos(psi_1) - \\ddot{\\psi_2}*l_f_2*cos(psi_2) + \\ddot{y} + \\dot{\\psi_1}**2*l_h*sin(psi_1) + \\dot{\\psi_2}**2*l_f_2*sin(psi_2))],\n",
       "[                                                                                                                                                        0],\n",
       "[                                                                                                                                                        0],\n",
       "[                                                                                                                                                        0],\n",
       "[                                                                                                                                  Izz_truck*\\ddot{\\psi_1}],\n",
       "[                                                                                                                                                        0],\n",
       "[                                                                                                                                                        0],\n",
       "[                                                                                                                                Izz_trailer*\\ddot{\\psi_2}]])"
      ]
     },
     "execution_count": 70,
     "metadata": {},
     "output_type": "execute_result"
    }
   ],
   "source": [
    "M_tot = ma_truck.col_join(ma_trailer)\n",
    "M_tot = M_tot.col_join(I_alpha_truck)\n",
    "M_tot = M_tot.col_join(I_alpha_trailer)\n",
    "M_tot"
   ]
  },
  {
   "cell_type": "code",
   "execution_count": 71,
   "metadata": {},
   "outputs": [],
   "source": [
    "lhs = j_total*M_tot"
   ]
  },
  {
   "cell_type": "code",
   "execution_count": 72,
   "metadata": {},
   "outputs": [],
   "source": [
    "lhs.simplify()"
   ]
  },
  {
   "cell_type": "code",
   "execution_count": 73,
   "metadata": {},
   "outputs": [
    {
     "data": {
      "text/latex": [
       "$\\displaystyle \\left[\\begin{matrix}\\ddot{x} m_{truck} + m_{trailer} \\left(\\ddot{\\psi_1} l_{h} \\sin{\\left(\\psi_{1} \\right)} + \\ddot{\\psi_2} l_{f 2} \\sin{\\left(\\psi_{2} \\right)} + \\ddot{x} + \\dot{\\psi_1}^{2} l_{h} \\cos{\\left(\\psi_{1} \\right)} + \\dot{\\psi_2}^{2} l_{f 2} \\cos{\\left(\\psi_{2} \\right)}\\right)\\\\\\ddot{y} m_{truck} + m_{trailer} \\left(- \\ddot{\\psi_1} l_{h} \\cos{\\left(\\psi_{1} \\right)} - \\ddot{\\psi_2} l_{f 2} \\cos{\\left(\\psi_{2} \\right)} + \\ddot{y} + \\dot{\\psi_1}^{2} l_{h} \\sin{\\left(\\psi_{1} \\right)} + \\dot{\\psi_2}^{2} l_{f 2} \\sin{\\left(\\psi_{2} \\right)}\\right)\\\\Izz_{truck} \\ddot{\\psi_1} + \\ddot{\\psi_1} l_{h}^{2} m_{trailer} + \\ddot{\\psi_2} l_{f 2} l_{h} m_{trailer} \\cos{\\left(\\psi_{1} - \\psi_{2} \\right)} + \\ddot{x} l_{h} m_{trailer} \\sin{\\left(\\psi_{1} \\right)} - \\ddot{y} l_{h} m_{trailer} \\cos{\\left(\\psi_{1} \\right)} + \\dot{\\psi_2}^{2} l_{f 2} l_{h} m_{trailer} \\sin{\\left(\\psi_{1} - \\psi_{2} \\right)}\\\\Izz_{trailer} \\ddot{\\psi_2} + \\ddot{\\psi_1} l_{f 2} l_{h} m_{trailer} \\cos{\\left(\\psi_{1} - \\psi_{2} \\right)} + \\ddot{\\psi_2} l_{f 2}^{2} m_{trailer} + \\ddot{x} l_{f 2} m_{trailer} \\sin{\\left(\\psi_{2} \\right)} - \\ddot{y} l_{f 2} m_{trailer} \\cos{\\left(\\psi_{2} \\right)} - \\dot{\\psi_1}^{2} l_{f 2} l_{h} m_{trailer} \\sin{\\left(\\psi_{1} - \\psi_{2} \\right)}\\end{matrix}\\right]$"
      ],
      "text/plain": [
       "Matrix([\n",
       "[                                                                             \\ddot{x}*m_truck + m_trailer*(\\ddot{\\psi_1}*l_h*sin(psi_1) + \\ddot{\\psi_2}*l_f_2*sin(psi_2) + \\ddot{x} + \\dot{\\psi_1}**2*l_h*cos(psi_1) + \\dot{\\psi_2}**2*l_f_2*cos(psi_2))],\n",
       "[                                                                            \\ddot{y}*m_truck + m_trailer*(-\\ddot{\\psi_1}*l_h*cos(psi_1) - \\ddot{\\psi_2}*l_f_2*cos(psi_2) + \\ddot{y} + \\dot{\\psi_1}**2*l_h*sin(psi_1) + \\dot{\\psi_2}**2*l_f_2*sin(psi_2))],\n",
       "[        Izz_truck*\\ddot{\\psi_1} + \\ddot{\\psi_1}*l_h**2*m_trailer + \\ddot{\\psi_2}*l_f_2*l_h*m_trailer*cos(psi_1 - psi_2) + \\ddot{x}*l_h*m_trailer*sin(psi_1) - \\ddot{y}*l_h*m_trailer*cos(psi_1) + \\dot{\\psi_2}**2*l_f_2*l_h*m_trailer*sin(psi_1 - psi_2)],\n",
       "[Izz_trailer*\\ddot{\\psi_2} + \\ddot{\\psi_1}*l_f_2*l_h*m_trailer*cos(psi_1 - psi_2) + \\ddot{\\psi_2}*l_f_2**2*m_trailer + \\ddot{x}*l_f_2*m_trailer*sin(psi_2) - \\ddot{y}*l_f_2*m_trailer*cos(psi_2) - \\dot{\\psi_1}**2*l_f_2*l_h*m_trailer*sin(psi_1 - psi_2)]])"
      ]
     },
     "execution_count": 73,
     "metadata": {},
     "output_type": "execute_result"
    }
   ],
   "source": [
    "lhs"
   ]
  },
  {
   "cell_type": "code",
   "execution_count": 75,
   "metadata": {},
   "outputs": [
    {
     "data": {
      "text/latex": [
       "$\\displaystyle \\left[\\begin{matrix}- F_{x 12} + \\left(- F_{f x 1} + F_{r x 1}\\right) \\cos{\\left(\\psi_{1} \\right)} - \\left(F_{f y 1} + F_{r y 1}\\right) \\sin{\\left(\\psi_{1} \\right)}\\\\- F_{y 12} + \\left(- F_{f x 1} + F_{r x 1}\\right) \\sin{\\left(\\psi_{1} \\right)} + \\left(F_{f y 1} + F_{r y 1}\\right) \\cos{\\left(\\psi_{1} \\right)}\\\\0\\\\F_{r x 2} \\cos{\\left(\\psi_{2} \\right)} - F_{r y 2} \\sin{\\left(\\psi_{2} \\right)} + F_{x 12}\\\\F_{r x 2} \\sin{\\left(\\psi_{2} \\right)} + F_{r y 2} \\cos{\\left(\\psi_{2} \\right)} + F_{y 12}\\\\0\\\\0\\\\0\\\\F_{f y 1} l_{f1} - F_{r y 1} l_{r1} - F_{x 12} l_{h} \\sin{\\left(\\psi_{1} \\right)} + F_{y 12} l_{h} \\cos{\\left(\\psi_{1} \\right)}\\\\0\\\\0\\\\- F_{r y 2} l_{r2} - F_{x 12} l_{f 2} \\sin{\\left(\\psi_{2} \\right)} + F_{y 12} l_{f 2} \\cos{\\left(\\psi_{2} \\right)}\\end{matrix}\\right]$"
      ],
      "text/plain": [
       "Matrix([\n",
       "[ -F_x_12 + (-F_f_x_1 + F_r_x_1)*cos(psi_1) - (F_f_y_1 + F_r_y_1)*sin(psi_1)],\n",
       "[ -F_y_12 + (-F_f_x_1 + F_r_x_1)*sin(psi_1) + (F_f_y_1 + F_r_y_1)*cos(psi_1)],\n",
       "[                                                                          0],\n",
       "[                           F_r_x_2*cos(psi_2) - F_r_y_2*sin(psi_2) + F_x_12],\n",
       "[                           F_r_x_2*sin(psi_2) + F_r_y_2*cos(psi_2) + F_y_12],\n",
       "[                                                                          0],\n",
       "[                                                                          0],\n",
       "[                                                                          0],\n",
       "[F_f_y_1*l_f1 - F_r_y_1*l_r1 - F_x_12*l_h*sin(psi_1) + F_y_12*l_h*cos(psi_1)],\n",
       "[                                                                          0],\n",
       "[                                                                          0],\n",
       "[          -F_r_y_2*l_r2 - F_x_12*l_f_2*sin(psi_2) + F_y_12*l_f_2*cos(psi_2)]])"
      ]
     },
     "execution_count": 75,
     "metadata": {},
     "output_type": "execute_result"
    }
   ],
   "source": [
    "d_tot = f_tot_1_i.col_join(f_tot_2_i)\n",
    "d_tot = d_tot.col_join(M_truck_i)\n",
    "d_tot = d_tot.col_join(M_trailer_i)\n",
    "d_tot"
   ]
  },
  {
   "cell_type": "code",
   "execution_count": 80,
   "metadata": {},
   "outputs": [
    {
     "data": {
      "text/latex": [
       "$\\displaystyle \\left[\\begin{matrix}F_{r x 2} \\cos{\\left(\\psi_{2} \\right)} - F_{r y 2} \\sin{\\left(\\psi_{2} \\right)} + \\left(- F_{f x 1} + F_{r x 1}\\right) \\cos{\\left(\\psi_{1} \\right)} - \\left(F_{f y 1} + F_{r y 1}\\right) \\sin{\\left(\\psi_{1} \\right)}\\\\F_{r x 2} \\sin{\\left(\\psi_{2} \\right)} + F_{r y 2} \\cos{\\left(\\psi_{2} \\right)} + \\left(- F_{f x 1} + F_{r x 1}\\right) \\sin{\\left(\\psi_{1} \\right)} + \\left(F_{f y 1} + F_{r y 1}\\right) \\cos{\\left(\\psi_{1} \\right)}\\\\F_{f y 1} l_{f1} + F_{r x 2} l_{h} \\sin{\\left(\\psi_{1} - \\psi_{2} \\right)} - F_{r y 1} l_{r1} - F_{r y 2} l_{h} \\cos{\\left(\\psi_{1} - \\psi_{2} \\right)}\\\\- F_{r y 2} \\left(l_{f 2} + l_{r2}\\right)\\end{matrix}\\right]$"
      ],
      "text/plain": [
       "Matrix([\n",
       "[F_r_x_2*cos(psi_2) - F_r_y_2*sin(psi_2) + (-F_f_x_1 + F_r_x_1)*cos(psi_1) - (F_f_y_1 + F_r_y_1)*sin(psi_1)],\n",
       "[F_r_x_2*sin(psi_2) + F_r_y_2*cos(psi_2) + (-F_f_x_1 + F_r_x_1)*sin(psi_1) + (F_f_y_1 + F_r_y_1)*cos(psi_1)],\n",
       "[             F_f_y_1*l_f1 + F_r_x_2*l_h*sin(psi_1 - psi_2) - F_r_y_1*l_r1 - F_r_y_2*l_h*cos(psi_1 - psi_2)],\n",
       "[                                                                                   -F_r_y_2*(l_f_2 + l_r2)]])"
      ]
     },
     "execution_count": 80,
     "metadata": {},
     "output_type": "execute_result"
    }
   ],
   "source": [
    "rhs = j_total*d_tot\n",
    "rhs.simplify()\n",
    "rhs"
   ]
  },
  {
   "cell_type": "code",
   "execution_count": 81,
   "metadata": {},
   "outputs": [
    {
     "data": {
      "text/latex": [
       "$\\displaystyle \\left[\\begin{matrix}F_{r x 2} \\cos{\\left(\\psi_{2} \\right)} - F_{r y 2} \\sin{\\left(\\psi_{2} \\right)} + \\left(- F_{f x 1} + F_{r x 1}\\right) \\cos{\\left(\\psi_{1} \\right)} - \\left(F_{f y 1} + F_{r y 1}\\right) \\sin{\\left(\\psi_{1} \\right)}\\end{matrix}\\right]$"
      ],
      "text/plain": [
       "Matrix([[F_r_x_2*cos(psi_2) - F_r_y_2*sin(psi_2) + (-F_f_x_1 + F_r_x_1)*cos(psi_1) - (F_f_y_1 + F_r_y_1)*sin(psi_1)]])"
      ]
     },
     "execution_count": 81,
     "metadata": {},
     "output_type": "execute_result"
    }
   ],
   "source": [
    "rhs.row(0)"
   ]
  },
  {
   "cell_type": "code",
   "execution_count": 82,
   "metadata": {
    "scrolled": true
   },
   "outputs": [
    {
     "data": {
      "text/latex": [
       "$\\displaystyle \\left[\\begin{matrix}\\ddot{x} m_{truck} + m_{trailer} \\left(\\ddot{\\psi_1} l_{h} \\sin{\\left(\\psi_{1} \\right)} + \\ddot{\\psi_2} l_{f 2} \\sin{\\left(\\psi_{2} \\right)} + \\ddot{x} + \\dot{\\psi_1}^{2} l_{h} \\cos{\\left(\\psi_{1} \\right)} + \\dot{\\psi_2}^{2} l_{f 2} \\cos{\\left(\\psi_{2} \\right)}\\right)\\\\\\ddot{y} m_{truck} + m_{trailer} \\left(- \\ddot{\\psi_1} l_{h} \\cos{\\left(\\psi_{1} \\right)} - \\ddot{\\psi_2} l_{f 2} \\cos{\\left(\\psi_{2} \\right)} + \\ddot{y} + \\dot{\\psi_1}^{2} l_{h} \\sin{\\left(\\psi_{1} \\right)} + \\dot{\\psi_2}^{2} l_{f 2} \\sin{\\left(\\psi_{2} \\right)}\\right)\\\\Izz_{truck} \\ddot{\\psi_1} + \\ddot{\\psi_1} l_{h}^{2} m_{trailer} + \\ddot{\\psi_2} l_{f 2} l_{h} m_{trailer} \\cos{\\left(\\psi_{1} - \\psi_{2} \\right)} + \\ddot{x} l_{h} m_{trailer} \\sin{\\left(\\psi_{1} \\right)} - \\ddot{y} l_{h} m_{trailer} \\cos{\\left(\\psi_{1} \\right)} + \\dot{\\psi_2}^{2} l_{f 2} l_{h} m_{trailer} \\sin{\\left(\\psi_{1} - \\psi_{2} \\right)}\\\\Izz_{trailer} \\ddot{\\psi_2} + \\ddot{\\psi_1} l_{f 2} l_{h} m_{trailer} \\cos{\\left(\\psi_{1} - \\psi_{2} \\right)} + \\ddot{\\psi_2} l_{f 2}^{2} m_{trailer} + \\ddot{x} l_{f 2} m_{trailer} \\sin{\\left(\\psi_{2} \\right)} - \\ddot{y} l_{f 2} m_{trailer} \\cos{\\left(\\psi_{2} \\right)} - \\dot{\\psi_1}^{2} l_{f 2} l_{h} m_{trailer} \\sin{\\left(\\psi_{1} - \\psi_{2} \\right)}\\end{matrix}\\right] = \\left[\\begin{matrix}F_{r x 2} \\cos{\\left(\\psi_{2} \\right)} - F_{r y 2} \\sin{\\left(\\psi_{2} \\right)} + \\left(- F_{f x 1} + F_{r x 1}\\right) \\cos{\\left(\\psi_{1} \\right)} - \\left(F_{f y 1} + F_{r y 1}\\right) \\sin{\\left(\\psi_{1} \\right)}\\\\F_{r x 2} \\sin{\\left(\\psi_{2} \\right)} + F_{r y 2} \\cos{\\left(\\psi_{2} \\right)} + \\left(- F_{f x 1} + F_{r x 1}\\right) \\sin{\\left(\\psi_{1} \\right)} + \\left(F_{f y 1} + F_{r y 1}\\right) \\cos{\\left(\\psi_{1} \\right)}\\\\F_{f y 1} l_{f1} + F_{r x 2} l_{h} \\sin{\\left(\\psi_{1} - \\psi_{2} \\right)} - F_{r y 1} l_{r1} - F_{r y 2} l_{h} \\cos{\\left(\\psi_{1} - \\psi_{2} \\right)}\\\\- F_{r y 2} \\left(l_{f 2} + l_{r2}\\right)\\end{matrix}\\right]$"
      ],
      "text/plain": [
       "Eq(Matrix([\n",
       "[                                                                             \\ddot{x}*m_truck + m_trailer*(\\ddot{\\psi_1}*l_h*sin(psi_1) + \\ddot{\\psi_2}*l_f_2*sin(psi_2) + \\ddot{x} + \\dot{\\psi_1}**2*l_h*cos(psi_1) + \\dot{\\psi_2}**2*l_f_2*cos(psi_2))],\n",
       "[                                                                            \\ddot{y}*m_truck + m_trailer*(-\\ddot{\\psi_1}*l_h*cos(psi_1) - \\ddot{\\psi_2}*l_f_2*cos(psi_2) + \\ddot{y} + \\dot{\\psi_1}**2*l_h*sin(psi_1) + \\dot{\\psi_2}**2*l_f_2*sin(psi_2))],\n",
       "[        Izz_truck*\\ddot{\\psi_1} + \\ddot{\\psi_1}*l_h**2*m_trailer + \\ddot{\\psi_2}*l_f_2*l_h*m_trailer*cos(psi_1 - psi_2) + \\ddot{x}*l_h*m_trailer*sin(psi_1) - \\ddot{y}*l_h*m_trailer*cos(psi_1) + \\dot{\\psi_2}**2*l_f_2*l_h*m_trailer*sin(psi_1 - psi_2)],\n",
       "[Izz_trailer*\\ddot{\\psi_2} + \\ddot{\\psi_1}*l_f_2*l_h*m_trailer*cos(psi_1 - psi_2) + \\ddot{\\psi_2}*l_f_2**2*m_trailer + \\ddot{x}*l_f_2*m_trailer*sin(psi_2) - \\ddot{y}*l_f_2*m_trailer*cos(psi_2) - \\dot{\\psi_1}**2*l_f_2*l_h*m_trailer*sin(psi_1 - psi_2)]]), Matrix([\n",
       "[F_r_x_2*cos(psi_2) - F_r_y_2*sin(psi_2) + (-F_f_x_1 + F_r_x_1)*cos(psi_1) - (F_f_y_1 + F_r_y_1)*sin(psi_1)],\n",
       "[F_r_x_2*sin(psi_2) + F_r_y_2*cos(psi_2) + (-F_f_x_1 + F_r_x_1)*sin(psi_1) + (F_f_y_1 + F_r_y_1)*cos(psi_1)],\n",
       "[             F_f_y_1*l_f1 + F_r_x_2*l_h*sin(psi_1 - psi_2) - F_r_y_1*l_r1 - F_r_y_2*l_h*cos(psi_1 - psi_2)],\n",
       "[                                                                                   -F_r_y_2*(l_f_2 + l_r2)]]))"
      ]
     },
     "execution_count": 82,
     "metadata": {},
     "output_type": "execute_result"
    }
   ],
   "source": [
    "Eq(lhs,rhs)"
   ]
  },
  {
   "cell_type": "code",
   "execution_count": null,
   "metadata": {},
   "outputs": [],
   "source": []
  }
 ],
 "metadata": {
  "colab": {
   "collapsed_sections": [],
   "name": "TruckTrailer_LateralDynamics.ipynb",
   "provenance": []
  },
  "kernelspec": {
   "display_name": "Python 3 (ipykernel)",
   "language": "python",
   "name": "python3"
  },
  "language_info": {
   "codemirror_mode": {
    "name": "ipython",
    "version": 3
   },
   "file_extension": ".py",
   "mimetype": "text/x-python",
   "name": "python",
   "nbconvert_exporter": "python",
   "pygments_lexer": "ipython3",
   "version": "3.9.2"
  },
  "vscode": {
   "interpreter": {
    "hash": "11938c6bc6919ae2720b4d5011047913343b08a43b18698fd82dedb0d4417594"
   }
  }
 },
 "nbformat": 4,
 "nbformat_minor": 1
}
