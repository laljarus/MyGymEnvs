{
 "cells": [
  {
   "cell_type": "markdown",
   "metadata": {
    "id": "WDMXcMLiGeJj",
    "slideshow": {
     "slide_type": "slide"
    }
   },
   "source": [
    "# Truck Trailer Model\n",
    "![System_DOF](TruckTrailer_Model_DoF.png)\n",
    "\n",
    "$r_1^i  = \\begin{bmatrix} x \\\\ y \\\\ 0 \\end{bmatrix} $\n",
    "\n",
    "$r_h^{b_1} = \\begin{bmatrix} -l_h \\\\ 0 \\\\ 0 \\end{bmatrix} $\n",
    "\n",
    "$R_1 =  \\begin{bmatrix} cos(\\psi_1) & -sin(\\psi_1) & 0 \\\\ sin(\\psi_1) & cos(\\psi_1) & 0 \\\\ 0 & 0 & 1 \\end{bmatrix}$\n",
    "\n",
    "$r_2^{b_2} = \\begin{bmatrix} -l_{f_2} \\\\ 0 \\\\ 0 \\end{bmatrix} $\n",
    "\n",
    "$R_2 =  \\begin{bmatrix} cos(\\psi_2) & -sin(\\psi_2) & 0 \\\\ sin(\\psi_2) & cos(\\psi_2) & 0 \\\\ 0 & 0 & 1 \\end{bmatrix}$\n",
    "\n"
   ]
  },
  {
   "cell_type": "code",
   "execution_count": 29,
   "metadata": {},
   "outputs": [
    {
     "data": {
      "text/html": [
       "<script>\n",
       "code_show=true; \n",
       "function code_toggle() {\n",
       " if (code_show){\n",
       " $('div.input').hide();\n",
       " } else {\n",
       " $('div.input').show();\n",
       " }\n",
       " code_show = !code_show\n",
       "} \n",
       "$( document ).ready(code_toggle);\n",
       "</script>\n",
       "<form action=\"javascript:code_toggle()\"><input type=\"submit\" value=\"Click here to toggle on/off the raw code.\"></form>"
      ],
      "text/plain": [
       "<IPython.core.display.HTML object>"
      ]
     },
     "execution_count": 29,
     "metadata": {},
     "output_type": "execute_result"
    }
   ],
   "source": [
    "from IPython.display import HTML\n",
    "\n",
    "HTML('''<script>\n",
    "code_show=true; \n",
    "function code_toggle() {\n",
    " if (code_show){\n",
    " $('div.input').hide();\n",
    " } else {\n",
    " $('div.input').show();\n",
    " }\n",
    " code_show = !code_show\n",
    "} \n",
    "$( document ).ready(code_toggle);\n",
    "</script>\n",
    "<form action=\"javascript:code_toggle()\"><input type=\"submit\" value=\"Click here to toggle on/off the raw code.\"></form>''')"
   ]
  },
  {
   "cell_type": "code",
   "execution_count": 22,
   "metadata": {
    "id": "lhdBNjbqGnlZ",
    "slideshow": {
     "slide_type": "skip"
    }
   },
   "outputs": [],
   "source": [
    "from sympy import *"
   ]
  },
  {
   "cell_type": "markdown",
   "metadata": {
    "id": "kqEKAbS5LGpX",
    "slideshow": {
     "slide_type": "slide"
    }
   },
   "source": [
    "# Location of Truck,Hitch and Trailer"
   ]
  },
  {
   "cell_type": "code",
   "execution_count": 23,
   "metadata": {
    "id": "YeMUilYFGzGg",
    "slideshow": {
     "slide_type": "skip"
    }
   },
   "outputs": [],
   "source": [
    "x,y,psi_1,theta,q,psi_2 = symbols('x y psi_1 theta q psi_2')"
   ]
  },
  {
   "cell_type": "code",
   "execution_count": 24,
   "metadata": {
    "id": "OGANRqDnHCY2",
    "slideshow": {
     "slide_type": "skip"
    }
   },
   "outputs": [],
   "source": [
    "#psi_2 = psi_1 + theta\n",
    "q = Matrix([x,y,psi_1,psi_2])\n",
    "r_truck_wor = Matrix([x,y,0])\n",
    "l_h = symbols('l_h')\n",
    "r_hitch_truck = Matrix([-l_h,0,0])\n",
    "R_truck = Matrix([[cos(psi_1),-sin(psi_1),0],[sin(psi_1),cos(psi_1),0],[0,0,1]])\n",
    "r_hitch_wor = r_truck_wor + R_truck*r_hitch_truck"
   ]
  },
  {
   "cell_type": "markdown",
   "metadata": {
    "slideshow": {
     "slide_type": "slide"
    }
   },
   "source": [
    "$ r_h^i = r_1^i + R_1*r_h^{b_1} $\n",
    "\n",
    "$ r_h^{b_1} = \\begin{bmatrix} -l_h.cos(\\psi_1)+x \\\\ -l_h.sin(\\psi_2)+y \\\\ 0 \\end{bmatrix} $\n",
    "\n"
   ]
  },
  {
   "cell_type": "code",
   "execution_count": 28,
   "metadata": {
    "colab": {
     "base_uri": "https://localhost:8080/",
     "height": 78
    },
    "id": "x71z0JrDJLaJ",
    "outputId": "a49bd382-e249-4cad-b028-87b610422a9e",
    "slideshow": {
     "slide_type": "skip"
    }
   },
   "outputs": [],
   "source": [
    "\n",
    "l_f_tr = symbols('l_f_tr')\n",
    "r_trailer_hitch = Matrix([-l_f_tr,0,0])\n",
    "R_trailer = Matrix([[cos(psi_2),-sin(psi_2),0],[sin(psi_2),cos(psi_2),0],[0,0,1]])\n",
    "r_trailer_wor = r_hitch_wor + R_trailer*r_trailer_hitch"
   ]
  },
  {
   "cell_type": "markdown",
   "metadata": {
    "colab": {
     "base_uri": "https://localhost:8080/",
     "height": 78
    },
    "id": "S8rfZI4cKGLO",
    "outputId": "38526e1d-2b6a-4a79-dafc-afbc54d10a27",
    "slideshow": {
     "slide_type": "slide"
    }
   },
   "source": [
    "\n",
    "\n",
    "$ r_h^i = r_h^i + R_2*r_2^{b_2} $\n",
    "\n",
    "$ r_h^{b_1} = \\begin{bmatrix} -l_h.cos(\\psi_1)-l_{f_2}.cos(\\psi_2)+x \\\\ -l_h.sin(\\psi_1)-l_{f_2}.sin(\\psi_2)+y \\\\ 0 \\end{bmatrix} $\n",
    "\n"
   ]
  },
  {
   "cell_type": "markdown",
   "metadata": {
    "id": "vfTBvUx3LbBZ",
    "slideshow": {
     "slide_type": "slide"
    }
   },
   "source": [
    "# Translation Kinematics\n",
    "\n",
    "## Translation Jacobian of truck and trailer"
   ]
  },
  {
   "cell_type": "code",
   "execution_count": 14,
   "metadata": {
    "id": "M19YDCb_K0CL",
    "slideshow": {
     "slide_type": "skip"
    }
   },
   "outputs": [],
   "source": [
    "j_trans_truck = Matrix(diff(r_truck_wor,x))\n",
    "j_trans_truck = j_trans_truck.col_insert(2,diff(r_truck_wor,y))\n",
    "j_trans_truck = j_trans_truck.col_insert(3,diff(r_truck_wor,psi_1))\n",
    "j_trans_truck = j_trans_truck.col_insert(4,diff(r_truck_wor,psi_2))"
   ]
  },
  {
   "cell_type": "markdown",
   "metadata": {
    "slideshow": {
     "slide_type": "slide"
    }
   },
   "source": [
    "$ J_{T_1} = \\frac{\\partial r_1^i}{\\partial q} = \\begin{bmatrix} 1&0&0&0 \\\\ 0 & 1 & 0&0\\\\ 0&0&0&0 \\end{bmatrix} $\n"
   ]
  },
  {
   "cell_type": "code",
   "execution_count": 16,
   "metadata": {
    "colab": {
     "base_uri": "https://localhost:8080/",
     "height": 78
    },
    "id": "aoziFUycN9DI",
    "outputId": "794523f6-fc57-4c51-c17c-9e28bd8b6cfa",
    "slideshow": {
     "slide_type": "skip"
    }
   },
   "outputs": [],
   "source": [
    "j_trans_hitch = Matrix(diff(r_hitch_wor,x))\n",
    "j_trans_hitch = j_trans_hitch.col_insert(2,diff(r_hitch_wor,y))\n",
    "j_trans_hitch = j_trans_hitch.col_insert(3,diff(r_hitch_wor,psi_1))\n",
    "j_trans_hitch = j_trans_hitch.col_insert(4,diff(r_hitch_wor,psi_2))"
   ]
  },
  {
   "cell_type": "markdown",
   "metadata": {
    "slideshow": {
     "slide_type": "slide"
    }
   },
   "source": [
    "$ J_{T_h} = \\frac{\\partial r_h^i}{\\partial q} = \\begin{bmatrix} 1&0& l_h.sin(\\psi_1) &0 \\\\ 0 & 1 & -l_h.cos(\\psi_1) &0\\\\ 0&0&0&0 \\end{bmatrix} $"
   ]
  },
  {
   "cell_type": "code",
   "execution_count": 18,
   "metadata": {
    "colab": {
     "base_uri": "https://localhost:8080/",
     "height": 78
    },
    "id": "a4mduyD_OAsP",
    "outputId": "ac4752ee-c12f-46c2-e132-96e612ca53fe",
    "slideshow": {
     "slide_type": "skip"
    }
   },
   "outputs": [],
   "source": [
    "j_trans_trailer = Matrix(diff(r_trailer_wor,x))\n",
    "j_trans_trailer = j_trans_trailer.col_insert(2,diff(r_trailer_wor,y))\n",
    "j_trans_trailer = j_trans_trailer.col_insert(3,diff(r_trailer_wor,psi_1))\n",
    "j_trans_trailer = j_trans_trailer.col_insert(4,diff(r_trailer_wor,psi_2))\n"
   ]
  },
  {
   "cell_type": "markdown",
   "metadata": {},
   "source": [
    "$ J_{T_2} = \\frac{\\partial r_h^i}{\\partial q} = \\begin{bmatrix} 1&0& l_h.sin(\\psi_1) & l_{f_2}.sin(\\psi_2)  \\\\ 0 & 1 & -l_h.cos(\\psi_1) & -l_{f_2}.cos(\\psi_2) \\\\ 0&0&0&0 \\end{bmatrix} $"
   ]
  },
  {
   "cell_type": "code",
   "execution_count": 20,
   "metadata": {
    "id": "tEANtSJBOCa1"
   },
   "outputs": [],
   "source": [
    "q_dot,x_dot,y_dot = symbols('\\dot{q} \\dot{x} \\dot{y}')\n",
    "psi_2_dot = symbols(r\"\\dot{\\psi_2}\")\n",
    "psi_1_dot   = symbols(r\"\\dot{\\psi_1}\")\n",
    "q_dot = Matrix([x_dot,y_dot,psi_1_dot,psi_2_dot])\n",
    "v_hitch_wor =  j_trans_hitch*q_dot\n",
    "v_truck_wor = j_trans_truck*q_dot\n",
    "v_trailer_wor = j_trans_trailer*q_dot"
   ]
  },
  {
   "cell_type": "markdown",
   "metadata": {},
   "source": [
    "$ \\dot{q} = \\begin{bmatrix} \\dot{x} \\\\ \\dot{y} \\\\ \\dot{\\psi_1} \\\\ \\dot{\\psi_2}  \\end{bmatrix} $"
   ]
  },
  {
   "cell_type": "markdown",
   "metadata": {},
   "source": [
    "$ v_{s_i} = J_{T_i}(q,t)\\dot{q} + \\bar{v_{s_i}}(q,t) $\n",
    "\n",
    "$ v_1 = \\begin{bmatrix} \\dot{x} \\\\ \\dot{y}\\\\ 0 \\end{bmatrix} $\n",
    "\n",
    "$ v_h^i = \\begin{bmatrix} \\dot{\\psi_1}.l_h.sin(\\psi_1)+\\dot{x} \\\\ -\\dot{\\psi_1}.l_h.cos(\\psi_1)+\\dot{y} \\\\ 0 \\end{bmatrix} $\n",
    "\n",
    "$ v_2^i = \\begin{bmatrix} \\dot{\\psi_1}.l_h.sin(\\psi_1)+\\dot{\\psi_2}.l_{f_2}.sin(\\psi_2) +\\dot{x} \\\\ -\\dot{\\psi_1}.l_h.cos(\\psi_1)- \\dot{\\psi_2}.l_{f_2}.cos(\\psi_2) +\\dot{y} \\\\ 0 \\end{bmatrix} $\n"
   ]
  },
  {
   "cell_type": "code",
   "execution_count": 37,
   "metadata": {
    "id": "-rsQL1Q-WFmU"
   },
   "outputs": [],
   "source": [
    "q_ddot,x_ddot,y_ddot = symbols('\\ddot{q} \\ddot{x} \\ddot{y}')\n",
    "psi_2_ddot = symbols(r\"\\ddot{\\psi_2}\")\n",
    "psi_1_ddot   = symbols(r\"\\ddot{\\psi_1}\")\n",
    "q_ddot = Matrix([x_ddot,y_ddot,psi_1_ddot,psi_2_ddot])\n",
    "j_trans_truck_dot = Matrix(zeros(3,4))\n",
    "v_dot_truck_wor = j_trans_truck*q_ddot + j_trans_truck_dot*q_dot"
   ]
  },
  {
   "cell_type": "markdown",
   "metadata": {},
   "source": [
    "$ \\dot{v_{s_i}} = J_{T_i}\\ddot{q} + \\dot{J_{T_I}}\\dot{q}  + \\dot{\\bar{v_{s_i}}} $\n",
    "\n",
    "$ \\ddot{q} = \\begin{bmatrix} \\ddot{x} \\\\ \\ddot{y} \\\\ \\ddot{\\psi_1} \\\\ \\ddot{\\psi_2}  \\end{bmatrix} $\n",
    "\n",
    "$ \\dot{J_{T_1}} = \\begin{bmatrix} 0&0&0&0 \\\\ 0&0&0&0 \\\\ 0&0&0&0  \\end{bmatrix}   $\n",
    "\n",
    "$ \\dot{v_1} = \\begin{bmatrix} \\ddot{x} \\\\ \\ddot{y} \\\\ 0  \\end{bmatrix}   $"
   ]
  },
  {
   "cell_type": "markdown",
   "metadata": {},
   "source": [
    "$ \\dot{J_{T_h}} = \\begin{bmatrix} 0&0& \\dot{\\psi_1}.l_h.cos(\\psi_1) &0 \\\\ 0&0&\\dot{\\psi_1}.l_h.sin(\\psi_1)&0 \\\\ 0&0&0&0  \\end{bmatrix}   $\n",
    "\n",
    "$ \\dot{v_h} = \\begin{bmatrix} \\ddot{\\psi_1}.l_h.sin(\\psi_1)+ \\dot{\\psi_1}^2.l_h.cos(\\psi_1) + \\ddot{x} \\\\\n",
    "-\\ddot{\\psi_1}.l_h.cos(\\psi_1)+ \\dot{\\psi_1}^2.l_h.sin(\\psi_1) +\\ddot{y} \\\\\n",
    "0 \\end{bmatrix} $"
   ]
  },
  {
   "cell_type": "markdown",
   "metadata": {},
   "source": [
    "$ \\dot{J_{T_2}} = \\begin{bmatrix} 0&0& \\dot{\\psi_1}.l_h.cos(\\psi_1) & \\dot{\\psi_2}.l_{f_2}.cos(\\psi_2) \\\\\n",
    "0&0& \\dot{\\psi_1}.l_h.sin(\\psi_1) & \\dot{\\psi_2}.l_{f_2}.sin(\\psi_2) \\\\\n",
    "0&0&0&0 \\end{bmatrix} $\n",
    "\n",
    "$ \\dot{v_h} = \\begin{bmatrix} \\ddot{\\psi_1}.l_h.sin(\\psi_1) +\\ddot{\\psi_2}.l_{f_2}.sin(\\psi_2) + \\dot{\\psi_1}^2.l_h.cos(\\psi_1) + \\dot{\\psi_2}^2.l_{f_2}.cos(\\psi_2)  + \\ddot{x} \\\\\n",
    "-\\ddot{\\psi_1}.l_h.cos(\\psi_1)-\\ddot{\\psi_2}.l_{f_2}.cos(\\psi_2)+ \\dot{\\psi_1}^2.l_h.sin(\\psi_1)+\\dot{\\psi_2}^2.l_{f_2}.sin(\\psi_2) +\\ddot{y} \\\\\n",
    "0 \\end{bmatrix} $\n"
   ]
  },
  {
   "cell_type": "code",
   "execution_count": 38,
   "metadata": {},
   "outputs": [],
   "source": [
    "j_trans_hitch_dot = Matrix([[0,0,l_h*cos(psi_1)*psi_1_dot,0],[0,0,l_h*sin(psi_1)*psi_1_dot,0],[0,0,0,0]])\n",
    "j_trans_trailer_dot = Matrix([[0,0,l_h*cos(psi_1)*psi_1_dot,l_f_tr*cos(psi_2)*psi_2_dot],\n",
    "                              [0,0,l_h*sin(psi_1)*psi_1_dot,l_f_tr*sin(psi_2)*psi_2_dot],[0,0,0,0]])"
   ]
  },
  {
   "cell_type": "code",
   "execution_count": 42,
   "metadata": {},
   "outputs": [],
   "source": [
    "v_dot_hitch_wor = j_trans_hitch *q_ddot + j_trans_hitch_dot*q_dot\n",
    "v_dot_trailer_wor = j_trans_trailer*q_ddot + j_trans_trailer_dot*q_dot"
   ]
  },
  {
   "cell_type": "markdown",
   "metadata": {},
   "source": [
    "## Rotational Kinematics"
   ]
  },
  {
   "cell_type": "code",
   "execution_count": 50,
   "metadata": {
    "scrolled": true
   },
   "outputs": [],
   "source": [
    "j_rot_truck_q1 = diff(R_truck,x)*R_truck.transpose()\n",
    "j_rot_truck_q2 = diff(R_truck,y)*R_truck.transpose()\n",
    "j_rot_truck_q3 = diff(R_truck,psi_1)*R_truck.transpose()\n",
    "j_rot_truck_q4 = diff(R_truck,psi_2)*R_truck.transpose()\n",
    "j_rot_truck = Matrix([[0,0,0],[0,0,0],[0,0,1],[0,0,0]]).transpose()"
   ]
  },
  {
   "cell_type": "markdown",
   "metadata": {},
   "source": [
    "$ J_{R_1} = \\begin{bmatrix} 0&0&0&0 \\\\ 0&0&0&0 \\\\ 0&0&1&0 \\end{bmatrix} $\n",
    "\n",
    "\n",
    "$ \\omega_1^i = \\begin{bmatrix} 0\\\\0\\\\ \\psi_1 \\end{bmatrix} $\n",
    "\n",
    "$ \\dot{\\omega_1}^i = \\begin{bmatrix} 0\\\\0\\\\ \\dot{\\psi_1} \\end{bmatrix} $"
   ]
  },
  {
   "cell_type": "markdown",
   "metadata": {},
   "source": [
    "$ J_{R_2} = \\begin{bmatrix} 0&0&0&0 \\\\ 0&0&0&0 \\\\ 0&0&0&1 \\end{bmatrix} $\n",
    "\n",
    "\n",
    "$ \\omega_2^i = \\begin{bmatrix} 0\\\\0\\\\ \\psi_2 \\end{bmatrix} $\n",
    "\n",
    "$ \\dot{\\omega_2}^i = \\begin{bmatrix} 0\\\\0\\\\ \\dot{\\psi_2} \\end{bmatrix} $"
   ]
  },
  {
   "cell_type": "markdown",
   "metadata": {},
   "source": [
    "$J_{Tot} = \\begin{bmatrix} J_{T_1}^T& J_{T_2}^T& J_{R_1}^T& J_{R_2}^T \\end{bmatrix}$"
   ]
  },
  {
   "cell_type": "code",
   "execution_count": 52,
   "metadata": {},
   "outputs": [],
   "source": [
    "j_rot_truck_dot = zeros(3,4)\n",
    "j_rot_trailer_q1 = diff(R_trailer,x)*R_trailer.transpose()\n",
    "j_rot_trailer_q2 = diff(R_trailer,y)*R_trailer.transpose()\n",
    "j_rot_trailer_q3 = diff(R_trailer,psi_1)*R_trailer.transpose()\n",
    "j_rot_trailer_q4 = diff(R_trailer,psi_2)*R_trailer.transpose()\n",
    "j_rot_trailer_q4.simplify()\n",
    "j_rot_trailer = Matrix([[0,0,0],[0,0,0],[0,0,0],[0,0,1]]).transpose()\n",
    "j_rot_trailer_dot = zeros(3,4)"
   ]
  },
  {
   "cell_type": "code",
   "execution_count": 53,
   "metadata": {},
   "outputs": [],
   "source": [
    "w_truck = j_rot_truck*q\n",
    "w_trailer = j_rot_trailer*q\n",
    "w_dot_truck = j_rot_truck*q_dot + j_rot_truck_dot*q\n",
    "w_dot_trailer = j_rot_trailer*q_dot + j_rot_trailer_dot*q\n"
   ]
  },
  {
   "cell_type": "code",
   "execution_count": 49,
   "metadata": {},
   "outputs": [],
   "source": [
    "j_total = j_trans_truck.transpose().row_join(j_trans_trailer.transpose())\n",
    "j_total = j_total.row_join(j_rot_truck.transpose())\n",
    "j_total = j_total.row_join(j_rot_trailer.transpose())"
   ]
  },
  {
   "cell_type": "code",
   "execution_count": 50,
   "metadata": {},
   "outputs": [
    {
     "data": {
      "text/latex": [
       "$\\displaystyle \\left[\\begin{array}{cccccccccccc}1 & 0 & 0 & 1 & 0 & 0 & 0 & 0 & 0 & 0 & 0 & 0\\\\0 & 1 & 0 & 0 & 1 & 0 & 0 & 0 & 0 & 0 & 0 & 0\\\\0 & 0 & 0 & l_{h} \\sin{\\left(\\psi_{1} \\right)} & - l_{h} \\cos{\\left(\\psi_{1} \\right)} & 0 & 0 & 0 & 1 & 0 & 0 & 0\\\\0 & 0 & 0 & l_{f tr} \\sin{\\left(\\psi_{2} \\right)} & - l_{f tr} \\cos{\\left(\\psi_{2} \\right)} & 0 & 0 & 0 & 0 & 0 & 0 & 1\\end{array}\\right]$"
      ],
      "text/plain": [
       "Matrix([\n",
       "[1, 0, 0,                 1,                  0, 0, 0, 0, 0, 0, 0, 0],\n",
       "[0, 1, 0,                 0,                  1, 0, 0, 0, 0, 0, 0, 0],\n",
       "[0, 0, 0,    l_h*sin(psi_1),    -l_h*cos(psi_1), 0, 0, 0, 1, 0, 0, 0],\n",
       "[0, 0, 0, l_f_tr*sin(psi_2), -l_f_tr*cos(psi_2), 0, 0, 0, 0, 0, 0, 1]])"
      ]
     },
     "execution_count": 50,
     "metadata": {},
     "output_type": "execute_result"
    }
   ],
   "source": [
    "j_total"
   ]
  },
  {
   "cell_type": "markdown",
   "metadata": {},
   "source": [
    "## Forces on Truck and Trailer\n",
    "\n",
    "![System_Forces](TruckTrailer_Model_Forces.png)"
   ]
  },
  {
   "cell_type": "markdown",
   "metadata": {},
   "source": [
    "## Sum of all forces on Truck and trailer in the intertial frame\n",
    "\n",
    "$$ \\sum{f_{truck}^o} = R_{\\psi_1}*(f_{x,Roll} + f_{x,drive}) + R_{\\psi_1} * R_{\\delta}* f_{steer} + R_{\\psi_2}* ( f_{x,12} + f_{y,12}) $$\n",
    "\n",
    "$$ \\sum{f_{trailer}^o = R_{\\psi_2}* ( f_{x,21} + f_{y,21} + f_{y,slide}+ f_{x,roll})  } $$"
   ]
  },
  {
   "cell_type": "code",
   "execution_count": 60,
   "metadata": {},
   "outputs": [],
   "source": [
    "f_x_roll_truck,f_roll,g,m_truck,f_x_drive, f_steer = symbols('f_x_roll_truck f_roll g m_truck f_x_drive f_steer')\n",
    "#f_x_roll_truck = f_roll*m_truck*g\n"
   ]
  },
  {
   "cell_type": "code",
   "execution_count": 63,
   "metadata": {},
   "outputs": [
    {
     "data": {
      "text/latex": [
       "$\\displaystyle \\left[\\begin{matrix}- f_{steer} \\sin{\\left(\\delta \\right)}\\\\f_{steer} \\cos{\\left(\\delta \\right)}\\\\0\\end{matrix}\\right]$"
      ],
      "text/plain": [
       "Matrix([\n",
       "[-f_steer*sin(delta)],\n",
       "[ f_steer*cos(delta)],\n",
       "[                  0]])"
      ]
     },
     "execution_count": 63,
     "metadata": {},
     "output_type": "execute_result"
    }
   ],
   "source": [
    "delta = symbols('delta')\n",
    "f_steer_f_wh = Matrix([0,f_steer,0])\n",
    "R_f_wheel = Matrix([[cos(delta),-sin(delta),0],[sin(delta),cos(delta),0],[0,0,1]])\n",
    "f_steer_truck = R_f_wheel*f_steer_f_wh\n",
    "f_steer_truck"
   ]
  },
  {
   "cell_type": "code",
   "execution_count": null,
   "metadata": {},
   "outputs": [],
   "source": []
  },
  {
   "cell_type": "code",
   "execution_count": 58,
   "metadata": {},
   "outputs": [],
   "source": [
    "Ixx_truck,Iyy_truck,Izz_truck = symbols('Ixx_truck Iyy_truck Izz_truck ')\n",
    "\n",
    "I_truck_body = Matrix([[Ixx_truck,0,0],[0,Iyy_truck,0],[0,0,Izz_truck]])\n"
   ]
  },
  {
   "cell_type": "code",
   "execution_count": 52,
   "metadata": {},
   "outputs": [
    {
     "data": {
      "text/latex": [
       "$\\displaystyle \\left[\\begin{matrix}Ixx_{truck} \\cos^{2}{\\left(\\psi_{1} \\right)} + Iyy_{truck} \\sin^{2}{\\left(\\psi_{1} \\right)} & \\frac{\\left(Ixx_{truck} - Iyy_{truck}\\right) \\sin{\\left(2 \\psi_{1} \\right)}}{2} & 0\\\\\\frac{\\left(Ixx_{truck} - Iyy_{truck}\\right) \\sin{\\left(2 \\psi_{1} \\right)}}{2} & Ixx_{truck} \\sin^{2}{\\left(\\psi_{1} \\right)} + Iyy_{truck} \\cos^{2}{\\left(\\psi_{1} \\right)} & 0\\\\0 & 0 & Izz_{truck}\\end{matrix}\\right]$"
      ],
      "text/plain": [
       "Matrix([\n",
       "[Ixx_truck*cos(psi_1)**2 + Iyy_truck*sin(psi_1)**2,            (Ixx_truck - Iyy_truck)*sin(2*psi_1)/2,         0],\n",
       "[           (Ixx_truck - Iyy_truck)*sin(2*psi_1)/2, Ixx_truck*sin(psi_1)**2 + Iyy_truck*cos(psi_1)**2,         0],\n",
       "[                                                0,                                                 0, Izz_truck]])"
      ]
     },
     "execution_count": 52,
     "metadata": {},
     "output_type": "execute_result"
    }
   ],
   "source": [
    "I_truck_wor = R_truck*I_truck_body*R_truck.transpose()\n",
    "I_truck_wor.simplify()\n",
    "I_truck_wor"
   ]
  },
  {
   "cell_type": "code",
   "execution_count": 55,
   "metadata": {},
   "outputs": [
    {
     "data": {
      "text/latex": [
       "$\\displaystyle \\left[\\begin{matrix}Ixx_{trailer} & 0 & 0\\\\0 & Iyy_{trailer} & 0\\\\0 & 0 & Izz_{trailer}\\end{matrix}\\right]$"
      ],
      "text/plain": [
       "Matrix([\n",
       "[Ixx_trailer,           0,           0],\n",
       "[          0, Iyy_trailer,           0],\n",
       "[          0,           0, Izz_trailer]])"
      ]
     },
     "execution_count": 55,
     "metadata": {},
     "output_type": "execute_result"
    }
   ],
   "source": [
    "m_trailer,Ixx_trailer,Iyy_trailer,Izz_trailer = symbols('m_trailer Ixx_trailer Iyy_trailer Izz_trailer ')\n",
    "\n",
    "I_trailer_body = Matrix([[Ixx_trailer,0,0],[0,Iyy_trailer,0],[0,0,Izz_trailer]])\n",
    "I_trailer_body"
   ]
  },
  {
   "cell_type": "code",
   "execution_count": 56,
   "metadata": {},
   "outputs": [
    {
     "data": {
      "text/latex": [
       "$\\displaystyle \\left[\\begin{matrix}Ixx_{trailer} \\cos^{2}{\\left(\\psi_{2} \\right)} + Iyy_{trailer} \\sin^{2}{\\left(\\psi_{2} \\right)} & Ixx_{trailer} \\sin{\\left(\\psi_{2} \\right)} \\cos{\\left(\\psi_{2} \\right)} - Iyy_{trailer} \\sin{\\left(\\psi_{2} \\right)} \\cos{\\left(\\psi_{2} \\right)} & 0\\\\Ixx_{trailer} \\sin{\\left(\\psi_{2} \\right)} \\cos{\\left(\\psi_{2} \\right)} - Iyy_{trailer} \\sin{\\left(\\psi_{2} \\right)} \\cos{\\left(\\psi_{2} \\right)} & Ixx_{trailer} \\sin^{2}{\\left(\\psi_{2} \\right)} + Iyy_{trailer} \\cos^{2}{\\left(\\psi_{2} \\right)} & 0\\\\0 & 0 & Izz_{trailer}\\end{matrix}\\right]$"
      ],
      "text/plain": [
       "Matrix([\n",
       "[                Ixx_trailer*cos(psi_2)**2 + Iyy_trailer*sin(psi_2)**2, Ixx_trailer*sin(psi_2)*cos(psi_2) - Iyy_trailer*sin(psi_2)*cos(psi_2),           0],\n",
       "[Ixx_trailer*sin(psi_2)*cos(psi_2) - Iyy_trailer*sin(psi_2)*cos(psi_2),                 Ixx_trailer*sin(psi_2)**2 + Iyy_trailer*cos(psi_2)**2,           0],\n",
       "[                                                                    0,                                                                     0, Izz_trailer]])"
      ]
     },
     "execution_count": 56,
     "metadata": {},
     "output_type": "execute_result"
    }
   ],
   "source": [
    "I_trailer_wor = R_trailer*I_trailer_body*R_trailer.transpose()\n",
    "I_trailer_wor"
   ]
  }
 ],
 "metadata": {
  "colab": {
   "collapsed_sections": [],
   "name": "TruckTrailer_LateralDynamics.ipynb",
   "provenance": []
  },
  "kernelspec": {
   "display_name": "Python 3 (ipykernel)",
   "language": "python",
   "name": "python3"
  },
  "language_info": {
   "codemirror_mode": {
    "name": "ipython",
    "version": 3
   },
   "file_extension": ".py",
   "mimetype": "text/x-python",
   "name": "python",
   "nbconvert_exporter": "python",
   "pygments_lexer": "ipython3",
   "version": "3.9.2"
  }
 },
 "nbformat": 4,
 "nbformat_minor": 1
}
