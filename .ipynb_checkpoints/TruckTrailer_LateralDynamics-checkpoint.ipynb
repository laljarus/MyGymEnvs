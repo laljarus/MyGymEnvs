{
 "cells": [
  {
   "cell_type": "markdown",
   "metadata": {},
   "source": [
    "![System_DOF](TruckTrailer_Model_DoF.png)\n",
    "\n",
    "\n",
    "$ r_1^i = \\begin{bmatrix} x \\\\ y\\\\ 0 \\end{bmatrix} $\n",
    "\n",
    "$r_h^{b_1} = \\begin{bmatrix} -l_h \\\\ 0 \\\\ 0 \\end{bmatrix} $\n",
    "\n",
    "$R_1 =  \\begin{bmatrix} cos(\\psi_1) & -sin(\\psi_1) & 0 \\\\ sin(\\psi_1) & cos(\\psi_1) & 0 \\\\ 0 & 0 & 1 \\end{bmatrix}$\n",
    "\n",
    "$r_2^{b_2} = \\begin{bmatrix} -l_{f_2} \\\\ 0 \\\\ 0 \\end{bmatrix} $\n",
    "\n",
    "$R_2 =  \\begin{bmatrix} cos(\\psi_2) & -sin(\\psi_2) & 0 \\\\ sin(\\psi_2) & cos(\\psi_2) & 0 \\\\ 0 & 0 & 1 \\end{bmatrix}$"
   ]
  },
  {
   "cell_type": "code",
   "execution_count": 3,
   "metadata": {},
   "outputs": [
    {
     "data": {
      "text/html": [
       "<script>\n",
       "code_show=true; \n",
       "function code_toggle() {\n",
       " if (code_show){\n",
       " $('div.input').hide();\n",
       " } else {\n",
       " $('div.input').show();\n",
       " }\n",
       " code_show = !code_show\n",
       "} \n",
       "$( document ).ready(code_toggle);\n",
       "</script>\n",
       "<form action=\"javascript:code_toggle()\"><input type=\"submit\" value=\"Click here to toggle on/off the raw code.\"></form>"
      ],
      "text/plain": [
       "<IPython.core.display.HTML object>"
      ]
     },
     "execution_count": 3,
     "metadata": {},
     "output_type": "execute_result"
    }
   ],
   "source": [
    "from IPython.display import HTML\n",
    "\n",
    "HTML('''<script>\n",
    "code_show=true; \n",
    "function code_toggle() {\n",
    " if (code_show){\n",
    " $('div.input').hide();\n",
    " } else {\n",
    " $('div.input').show();\n",
    " }\n",
    " code_show = !code_show\n",
    "} \n",
    "$( document ).ready(code_toggle);\n",
    "</script>\n",
    "<form action=\"javascript:code_toggle()\"><input type=\"submit\" value=\"Click here to toggle on/off the raw code.\"></form>''')"
   ]
  },
  {
   "cell_type": "code",
   "execution_count": 34,
   "metadata": {
    "id": "lhdBNjbqGnlZ",
    "slideshow": {
     "slide_type": "skip"
    }
   },
   "outputs": [],
   "source": [
    "from sympy import *"
   ]
  },
  {
   "cell_type": "markdown",
   "metadata": {
    "id": "kqEKAbS5LGpX",
    "slideshow": {
     "slide_type": "slide"
    }
   },
   "source": [
    "# Location of Truck,Hitch and Trailer"
   ]
  },
  {
   "cell_type": "code",
   "execution_count": 35,
   "metadata": {
    "id": "YeMUilYFGzGg",
    "slideshow": {
     "slide_type": "skip"
    }
   },
   "outputs": [],
   "source": [
    "x,y,psi_1,theta,q,psi_2 = symbols('x y psi_1 theta q psi_2')"
   ]
  },
  {
   "cell_type": "code",
   "execution_count": 36,
   "metadata": {
    "id": "OGANRqDnHCY2",
    "slideshow": {
     "slide_type": "skip"
    }
   },
   "outputs": [],
   "source": [
    "#psi_2 = psi_1 + theta\n",
    "q = Matrix([x,y,psi_1,psi_2])\n",
    "r_truck_wor = Matrix([x,y,0])\n",
    "l_h = symbols('l_h')\n",
    "r_hitch_truck = Matrix([-l_h,0,0])\n",
    "R_truck = Matrix([[cos(psi_1),-sin(psi_1),0],[sin(psi_1),cos(psi_1),0],[0,0,1]])\n",
    "r_hitch_wor = r_truck_wor + R_truck*r_hitch_truck"
   ]
  },
  {
   "cell_type": "markdown",
   "metadata": {
    "slideshow": {
     "slide_type": "slide"
    }
   },
   "source": [
    "$ r_h^i = r_1^i + R_1*r_h^{b_1} $\n",
    "\n",
    "$ r_h^{b_1} = \\begin{bmatrix} -l_h.cos(\\psi_1)+x \\\\ -l_h.sin(\\psi_2)+y \\\\ 0 \\end{bmatrix} $\n",
    "\n"
   ]
  },
  {
   "cell_type": "code",
   "execution_count": 37,
   "metadata": {
    "colab": {
     "base_uri": "https://localhost:8080/",
     "height": 78
    },
    "id": "x71z0JrDJLaJ",
    "outputId": "a49bd382-e249-4cad-b028-87b610422a9e",
    "slideshow": {
     "slide_type": "skip"
    }
   },
   "outputs": [],
   "source": [
    "l_f_tr = symbols('l_f_2')\n",
    "r_trailer_hitch = Matrix([-l_f_tr,0,0])\n",
    "R_trailer = Matrix([[cos(psi_2),-sin(psi_2),0],[sin(psi_2),cos(psi_2),0],[0,0,1]])\n",
    "r_trailer_wor = r_hitch_wor + R_trailer*r_trailer_hitch"
   ]
  },
  {
   "cell_type": "markdown",
   "metadata": {
    "colab": {
     "base_uri": "https://localhost:8080/",
     "height": 78
    },
    "id": "S8rfZI4cKGLO",
    "outputId": "38526e1d-2b6a-4a79-dafc-afbc54d10a27",
    "slideshow": {
     "slide_type": "slide"
    }
   },
   "source": [
    "\n",
    "\n",
    "$ r_h^i = r_h^i + R_2*r_2^{b_2} $\n",
    "\n",
    "$ r_h^{b_1} = \\begin{bmatrix} -l_h.cos(\\psi_1)-l_{f_2}.cos(\\psi_2)+x \\\\ -l_h.sin(\\psi_1)-l_{f_2}.sin(\\psi_2)+y \\\\ 0 \\end{bmatrix} $\n",
    "\n"
   ]
  },
  {
   "cell_type": "markdown",
   "metadata": {
    "id": "vfTBvUx3LbBZ",
    "slideshow": {
     "slide_type": "slide"
    }
   },
   "source": [
    "# Translation Kinematics\n",
    "\n",
    "## Translation Jacobian of truck and trailer"
   ]
  },
  {
   "cell_type": "code",
   "execution_count": 38,
   "metadata": {
    "id": "M19YDCb_K0CL",
    "slideshow": {
     "slide_type": "skip"
    }
   },
   "outputs": [],
   "source": [
    "j_trans_truck = Matrix(diff(r_truck_wor,x))\n",
    "j_trans_truck = j_trans_truck.col_insert(2,diff(r_truck_wor,y))\n",
    "j_trans_truck = j_trans_truck.col_insert(3,diff(r_truck_wor,psi_1))\n",
    "j_trans_truck = j_trans_truck.col_insert(4,diff(r_truck_wor,psi_2))"
   ]
  },
  {
   "cell_type": "markdown",
   "metadata": {
    "slideshow": {
     "slide_type": "slide"
    }
   },
   "source": [
    "$ J_{T_1} = \\frac{\\partial r_1^i}{\\partial q} = \\begin{bmatrix} 1&0&0&0 \\\\ 0 & 1 & 0&0\\\\ 0&0&0&0 \\end{bmatrix} $\n"
   ]
  },
  {
   "cell_type": "code",
   "execution_count": 39,
   "metadata": {
    "colab": {
     "base_uri": "https://localhost:8080/",
     "height": 78
    },
    "id": "aoziFUycN9DI",
    "outputId": "794523f6-fc57-4c51-c17c-9e28bd8b6cfa",
    "slideshow": {
     "slide_type": "skip"
    }
   },
   "outputs": [],
   "source": [
    "j_trans_hitch = Matrix(diff(r_hitch_wor,x))\n",
    "j_trans_hitch = j_trans_hitch.col_insert(2,diff(r_hitch_wor,y))\n",
    "j_trans_hitch = j_trans_hitch.col_insert(3,diff(r_hitch_wor,psi_1))\n",
    "j_trans_hitch = j_trans_hitch.col_insert(4,diff(r_hitch_wor,psi_2))"
   ]
  },
  {
   "cell_type": "markdown",
   "metadata": {
    "slideshow": {
     "slide_type": "slide"
    }
   },
   "source": [
    "$ J_{T_h} = \\frac{\\partial r_h^i}{\\partial q} = \\begin{bmatrix} 1&0& l_h.sin(\\psi_1) &0 \\\\ 0 & 1 & -l_h.cos(\\psi_1) &0\\\\ 0&0&0&0 \\end{bmatrix} $"
   ]
  },
  {
   "cell_type": "code",
   "execution_count": 40,
   "metadata": {
    "colab": {
     "base_uri": "https://localhost:8080/",
     "height": 78
    },
    "id": "a4mduyD_OAsP",
    "outputId": "ac4752ee-c12f-46c2-e132-96e612ca53fe",
    "slideshow": {
     "slide_type": "skip"
    }
   },
   "outputs": [],
   "source": [
    "j_trans_trailer = Matrix(diff(r_trailer_wor,x))\n",
    "j_trans_trailer = j_trans_trailer.col_insert(2,diff(r_trailer_wor,y))\n",
    "j_trans_trailer = j_trans_trailer.col_insert(3,diff(r_trailer_wor,psi_1))\n",
    "j_trans_trailer = j_trans_trailer.col_insert(4,diff(r_trailer_wor,psi_2))\n"
   ]
  },
  {
   "cell_type": "markdown",
   "metadata": {},
   "source": [
    "$ J_{T_2} = \\frac{\\partial r_h^i}{\\partial q} = \\begin{bmatrix} 1&0& l_h.sin(\\psi_1) & l_{f_2}.sin(\\psi_2)  \\\\ 0 & 1 & -l_h.cos(\\psi_1) & -l_{f_2}.cos(\\psi_2) \\\\ 0&0&0&0 \\end{bmatrix} $"
   ]
  },
  {
   "cell_type": "code",
   "execution_count": 41,
   "metadata": {
    "id": "tEANtSJBOCa1"
   },
   "outputs": [],
   "source": [
    "q_dot,x_dot,y_dot = symbols('\\dot{q} \\dot{x} \\dot{y}')\n",
    "psi_2_dot = symbols(r\"\\dot{\\psi_2}\")\n",
    "psi_1_dot   = symbols(r\"\\dot{\\psi_1}\")\n",
    "q_dot = Matrix([x_dot,y_dot,psi_1_dot,psi_2_dot])\n",
    "v_hitch_wor =  j_trans_hitch*q_dot\n",
    "v_truck_wor = j_trans_truck*q_dot\n",
    "v_trailer_wor = j_trans_trailer*q_dot"
   ]
  },
  {
   "cell_type": "markdown",
   "metadata": {},
   "source": [
    "$ \\dot{q} = \\begin{bmatrix} \\dot{x} \\\\ \\dot{y} \\\\ \\dot{\\psi_1} \\\\ \\dot{\\psi_2}  \\end{bmatrix} $"
   ]
  },
  {
   "cell_type": "markdown",
   "metadata": {},
   "source": [
    "$ v_{s_i} = J_{T_i}(q,t)\\dot{q} + \\bar{v_{s_i}}(q,t) $\n",
    "\n",
    "$ v_1 = \\begin{bmatrix} \\dot{x} \\\\ \\dot{y}\\\\ 0 \\end{bmatrix} $\n",
    "\n",
    "$ v_h^i = \\begin{bmatrix} \\dot{\\psi_1}.l_h.sin(\\psi_1)+\\dot{x} \\\\ -\\dot{\\psi_1}.l_h.cos(\\psi_1)+\\dot{y} \\\\ 0 \\end{bmatrix} $\n",
    "\n",
    "$ v_2^i = \\begin{bmatrix} \\dot{\\psi_1}.l_h.sin(\\psi_1)+\\dot{\\psi_2}.l_{f_2}.sin(\\psi_2) +\\dot{x} \\\\ -\\dot{\\psi_1}.l_h.cos(\\psi_1)- \\dot{\\psi_2}.l_{f_2}.cos(\\psi_2) +\\dot{y} \\\\ 0 \\end{bmatrix} $\n"
   ]
  },
  {
   "cell_type": "code",
   "execution_count": 42,
   "metadata": {
    "id": "-rsQL1Q-WFmU"
   },
   "outputs": [],
   "source": [
    "q_ddot,x_ddot,y_ddot = symbols('\\ddot{q} \\ddot{x} \\ddot{y}')\n",
    "psi_2_ddot = symbols(r\"\\ddot{\\psi_2}\")\n",
    "psi_1_ddot   = symbols(r\"\\ddot{\\psi_1}\")\n",
    "q_ddot = Matrix([x_ddot,y_ddot,psi_1_ddot,psi_2_ddot])\n",
    "j_trans_truck_dot = Matrix(zeros(3,4))\n",
    "v_dot_truck_wor = j_trans_truck*q_ddot + j_trans_truck_dot*q_dot"
   ]
  },
  {
   "cell_type": "markdown",
   "metadata": {},
   "source": [
    "$ \\dot{v_{s_i}} = J_{T_i}\\ddot{q} + \\dot{J_{T_I}}\\dot{q}  + \\dot{\\bar{v_{s_i}}} $\n",
    "\n",
    "$ \\ddot{q} = \\begin{bmatrix} \\ddot{x} \\\\ \\ddot{y} \\\\ \\ddot{\\psi_1} \\\\ \\ddot{\\psi_2}  \\end{bmatrix} $\n",
    "\n",
    "$ \\dot{J_{T_1}} = \\begin{bmatrix} 0&0&0&0 \\\\ 0&0&0&0 \\\\ 0&0&0&0  \\end{bmatrix}   $\n",
    "\n",
    "$ \\dot{v_1} = \\begin{bmatrix} \\ddot{x} \\\\ \\ddot{y} \\\\ 0  \\end{bmatrix}   $"
   ]
  },
  {
   "cell_type": "markdown",
   "metadata": {},
   "source": [
    "$ \\dot{J_{T_h}} = \\begin{bmatrix} 0&0& \\dot{\\psi_1}.l_h.cos(\\psi_1) &0 \\\\ 0&0&\\dot{\\psi_1}.l_h.sin(\\psi_1)&0 \\\\ 0&0&0&0  \\end{bmatrix}   $\n",
    "\n",
    "$ \\dot{v_h} = \\begin{bmatrix} \\ddot{\\psi_1}.l_h.sin(\\psi_1)+ \\dot{\\psi_1}^2.l_h.cos(\\psi_1) + \\ddot{x} \\\\\n",
    "-\\ddot{\\psi_1}.l_h.cos(\\psi_1)+ \\dot{\\psi_1}^2.l_h.sin(\\psi_1) +\\ddot{y} \\\\\n",
    "0 \\end{bmatrix} $"
   ]
  },
  {
   "cell_type": "markdown",
   "metadata": {},
   "source": [
    "$ \\dot{J_{T_2}} = \\begin{bmatrix} 0&0& \\dot{\\psi_1}.l_h.cos(\\psi_1) & \\dot{\\psi_2}.l_{f_2}.cos(\\psi_2) \\\\\n",
    "0&0& \\dot{\\psi_1}.l_h.sin(\\psi_1) & \\dot{\\psi_2}.l_{f_2}.sin(\\psi_2) \\\\\n",
    "0&0&0&0 \\end{bmatrix} $\n",
    "\n",
    "$ \\dot{v_2} = \\begin{bmatrix} \\ddot{\\psi_1}.l_h.sin(\\psi_1) +\\ddot{\\psi_2}.l_{f_2}.sin(\\psi_2) + \\dot{\\psi_1}^2.l_h.cos(\\psi_1) + \\dot{\\psi_2}^2.l_{f_2}.cos(\\psi_2)  + \\ddot{x} \\\\\n",
    "-\\ddot{\\psi_1}.l_h.cos(\\psi_1)-\\ddot{\\psi_2}.l_{f_2}.cos(\\psi_2)+ \\dot{\\psi_1}^2.l_h.sin(\\psi_1)+\\dot{\\psi_2}^2.l_{f_2}.sin(\\psi_2) +\\ddot{y} \\\\\n",
    "0 \\end{bmatrix} $\n"
   ]
  },
  {
   "cell_type": "code",
   "execution_count": 43,
   "metadata": {},
   "outputs": [],
   "source": [
    "j_trans_hitch_dot = Matrix([[0,0,l_h*cos(psi_1)*psi_1_dot,0],[0,0,l_h*sin(psi_1)*psi_1_dot,0],[0,0,0,0]])\n",
    "j_trans_trailer_dot = Matrix([[0,0,l_h*cos(psi_1)*psi_1_dot,l_f_tr*cos(psi_2)*psi_2_dot],\n",
    "                              [0,0,l_h*sin(psi_1)*psi_1_dot,l_f_tr*sin(psi_2)*psi_2_dot],[0,0,0,0]])"
   ]
  },
  {
   "cell_type": "code",
   "execution_count": 44,
   "metadata": {},
   "outputs": [],
   "source": [
    "v_dot_hitch_wor = j_trans_hitch *q_ddot + j_trans_hitch_dot*q_dot\n",
    "v_dot_trailer_wor = j_trans_trailer*q_ddot + j_trans_trailer_dot*q_dot"
   ]
  },
  {
   "cell_type": "markdown",
   "metadata": {},
   "source": [
    "## Rotational Kinematics"
   ]
  },
  {
   "cell_type": "code",
   "execution_count": 45,
   "metadata": {
    "scrolled": true
   },
   "outputs": [],
   "source": [
    "j_rot_truck_q1 = diff(R_truck,x)*R_truck.transpose()\n",
    "j_rot_truck_q2 = diff(R_truck,y)*R_truck.transpose()\n",
    "j_rot_truck_q3 = diff(R_truck,psi_1)*R_truck.transpose()\n",
    "j_rot_truck_q4 = diff(R_truck,psi_2)*R_truck.transpose()\n",
    "j_rot_truck = Matrix([[0,0,0],[0,0,0],[0,0,1],[0,0,0]]).transpose()"
   ]
  },
  {
   "cell_type": "markdown",
   "metadata": {},
   "source": [
    "$ J_{R_1} = \\begin{bmatrix} 0&0&0&0 \\\\ 0&0&0&0 \\\\ 0&0&1&0 \\end{bmatrix} $\n",
    "\n",
    "\n",
    "$ \\omega_1^i = \\begin{bmatrix} 0\\\\0\\\\ \\dot{\\psi_1} \\end{bmatrix} $\n",
    "\n",
    "$ \\dot{\\omega_1}^i = \\begin{bmatrix} 0\\\\0\\\\ \\ddot{\\psi_1} \\end{bmatrix} $"
   ]
  },
  {
   "cell_type": "markdown",
   "metadata": {},
   "source": [
    "$ J_{R_2} = \\begin{bmatrix} 0&0&0&0 \\\\ 0&0&0&0 \\\\ 0&0&0&1 \\end{bmatrix} $\n",
    "\n",
    "\n",
    "$ \\omega_2^i = \\begin{bmatrix} 0\\\\0\\\\ \\dot{\\psi_2} \\end{bmatrix} $\n",
    "\n",
    "$ \\dot{\\omega_2}^i = \\begin{bmatrix} 0\\\\0\\\\ \\ddot{\\psi_2} \\end{bmatrix} $"
   ]
  },
  {
   "cell_type": "markdown",
   "metadata": {},
   "source": [
    "$J_{Tot} = \\begin{bmatrix} J_{T_1}^T& J_{T_2}^T& J_{R_1}^T& J_{R_2}^T \\end{bmatrix}$"
   ]
  },
  {
   "cell_type": "code",
   "execution_count": 46,
   "metadata": {},
   "outputs": [],
   "source": [
    "j_rot_truck_dot = zeros(3,4)\n",
    "j_rot_trailer_q1 = diff(R_trailer,x)*R_trailer.transpose()\n",
    "j_rot_trailer_q2 = diff(R_trailer,y)*R_trailer.transpose()\n",
    "j_rot_trailer_q3 = diff(R_trailer,psi_1)*R_trailer.transpose()\n",
    "j_rot_trailer_q4 = diff(R_trailer,psi_2)*R_trailer.transpose()\n",
    "j_rot_trailer_q4.simplify()\n",
    "j_rot_trailer = Matrix([[0,0,0],[0,0,0],[0,0,0],[0,0,1]]).transpose()\n",
    "j_rot_trailer_dot = zeros(3,4)"
   ]
  },
  {
   "cell_type": "code",
   "execution_count": 47,
   "metadata": {},
   "outputs": [],
   "source": [
    "w_truck = j_rot_truck*q_dot\n",
    "w_trailer = j_rot_trailer*q_dot\n",
    "w_dot_truck = j_rot_truck*q_ddot + j_rot_truck_dot*q_dot\n",
    "w_dot_trailer = j_rot_trailer*q_ddot + j_rot_trailer_dot*q_dot\n"
   ]
  },
  {
   "cell_type": "code",
   "execution_count": 48,
   "metadata": {},
   "outputs": [],
   "source": [
    "j_total = j_trans_truck.transpose().row_join(j_trans_trailer.transpose())\n",
    "j_total = j_total.row_join(j_rot_truck.transpose())\n",
    "j_total = j_total.row_join(j_rot_trailer.transpose())"
   ]
  },
  {
   "cell_type": "code",
   "execution_count": 49,
   "metadata": {
    "scrolled": true
   },
   "outputs": [
    {
     "data": {
      "text/latex": [
       "$\\displaystyle \\left[\\begin{array}{cccccccccccc}1 & 0 & 0 & 1 & 0 & 0 & 0 & 0 & 0 & 0 & 0 & 0\\\\0 & 1 & 0 & 0 & 1 & 0 & 0 & 0 & 0 & 0 & 0 & 0\\\\0 & 0 & 0 & l_{h} \\sin{\\left(\\psi_{1} \\right)} & - l_{h} \\cos{\\left(\\psi_{1} \\right)} & 0 & 0 & 0 & 1 & 0 & 0 & 0\\\\0 & 0 & 0 & l_{f 2} \\sin{\\left(\\psi_{2} \\right)} & - l_{f 2} \\cos{\\left(\\psi_{2} \\right)} & 0 & 0 & 0 & 0 & 0 & 0 & 1\\end{array}\\right]$"
      ],
      "text/plain": [
       "Matrix([\n",
       "[1, 0, 0,                1,                 0, 0, 0, 0, 0, 0, 0, 0],\n",
       "[0, 1, 0,                0,                 1, 0, 0, 0, 0, 0, 0, 0],\n",
       "[0, 0, 0,   l_h*sin(psi_1),   -l_h*cos(psi_1), 0, 0, 0, 1, 0, 0, 0],\n",
       "[0, 0, 0, l_f_2*sin(psi_2), -l_f_2*cos(psi_2), 0, 0, 0, 0, 0, 0, 1]])"
      ]
     },
     "execution_count": 49,
     "metadata": {},
     "output_type": "execute_result"
    }
   ],
   "source": [
    "j_total"
   ]
  },
  {
   "cell_type": "markdown",
   "metadata": {},
   "source": [
    "## Forces on Truck and Trailer\n",
    "\n",
    "![System_Forces](TruckTrailer_Model_Forces.png)"
   ]
  },
  {
   "cell_type": "markdown",
   "metadata": {},
   "source": [
    "## Sum of all forces on Truck and trailer in the intertial frame\n",
    "\n",
    "$$ \\sum{f_{truck}^o} = R_{\\psi_1}*(f_{x,Roll} + f_{x,drive} +f_{y_r}) + R_{\\psi_1} * R_{\\delta}* f_{steer} + R_{\\psi_2}* ( f_{x,12} + f_{y,12}) $$\n",
    "\n",
    "$$ \\sum{f_{trailer}^o = R_{\\psi_2}* ( f_{x,21} + f_{y,21} + f_{y,slide}+ f_{x,roll})  } $$"
   ]
  },
  {
   "cell_type": "code",
   "execution_count": 50,
   "metadata": {},
   "outputs": [],
   "source": [
    "f_x_roll,f_roll_truck,g,m_truck,f_x_drive, f_steer = symbols('f_x_roll f_roll_truck g m_truck f_x_drive f_steer')\n",
    "#f_x_roll_truck = f_roll*m_truck*g\n"
   ]
  },
  {
   "cell_type": "code",
   "execution_count": 51,
   "metadata": {},
   "outputs": [
    {
     "data": {
      "text/latex": [
       "$\\displaystyle \\left[\\begin{matrix}- f_{steer} \\sin{\\left(\\delta \\right)}\\\\f_{steer} \\cos{\\left(\\delta \\right)}\\\\0\\end{matrix}\\right]$"
      ],
      "text/plain": [
       "Matrix([\n",
       "[-f_steer*sin(delta)],\n",
       "[ f_steer*cos(delta)],\n",
       "[                  0]])"
      ]
     },
     "execution_count": 51,
     "metadata": {},
     "output_type": "execute_result"
    }
   ],
   "source": [
    "delta = symbols('delta')\n",
    "f_steer_f_wh = Matrix([0,f_steer,0])\n",
    "R_f_wheel = Matrix([[cos(delta),-sin(delta),0],[sin(delta),cos(delta),0],[0,0,1]])\n",
    "f_steer_truck = R_f_wheel*f_steer_f_wh\n",
    "f_steer_truck"
   ]
  },
  {
   "cell_type": "code",
   "execution_count": 52,
   "metadata": {},
   "outputs": [
    {
     "data": {
      "text/latex": [
       "$\\displaystyle \\left[\\begin{matrix}- f_{steer} \\sin{\\left(\\delta + \\psi_{1} \\right)}\\\\f_{steer} \\cos{\\left(\\delta + \\psi_{1} \\right)}\\\\0\\end{matrix}\\right]$"
      ],
      "text/plain": [
       "Matrix([\n",
       "[-f_steer*sin(delta + psi_1)],\n",
       "[ f_steer*cos(delta + psi_1)],\n",
       "[                          0]])"
      ]
     },
     "execution_count": 52,
     "metadata": {},
     "output_type": "execute_result"
    }
   ],
   "source": [
    "f_steer_wor = R_truck*f_steer_truck\n",
    "f_steer_wor.simplify()\n",
    "f_steer_wor"
   ]
  },
  {
   "cell_type": "code",
   "execution_count": 53,
   "metadata": {},
   "outputs": [
    {
     "data": {
      "text/latex": [
       "$\\displaystyle \\left[\\begin{matrix}- f_{steer} \\sin{\\left(\\delta + \\psi_{1} \\right)} + f_{x 21} \\cos{\\left(\\psi_{2} \\right)} - f_{y 21} \\sin{\\left(\\psi_{2} \\right)} - f_{y r} \\sin{\\left(\\psi_{1} \\right)} + \\left(f_{a} + f_{x drive} + f_{x roll}\\right) \\cos{\\left(\\psi_{1} \\right)}\\\\f_{steer} \\cos{\\left(\\delta + \\psi_{1} \\right)} + f_{x 21} \\sin{\\left(\\psi_{2} \\right)} + f_{y 21} \\cos{\\left(\\psi_{2} \\right)} + f_{y r} \\cos{\\left(\\psi_{1} \\right)} + \\left(f_{a} + f_{x drive} + f_{x roll}\\right) \\sin{\\left(\\psi_{1} \\right)}\\\\0\\end{matrix}\\right]$"
      ],
      "text/plain": [
       "Matrix([\n",
       "[-f_steer*sin(delta + psi_1) + f_x_21*cos(psi_2) - f_y_21*sin(psi_2) - f_y_r*sin(psi_1) + (f_a + f_x_drive + f_x_roll)*cos(psi_1)],\n",
       "[ f_steer*cos(delta + psi_1) + f_x_21*sin(psi_2) + f_y_21*cos(psi_2) + f_y_r*cos(psi_1) + (f_a + f_x_drive + f_x_roll)*sin(psi_1)],\n",
       "[                                                                                                                               0]])"
      ]
     },
     "execution_count": 53,
     "metadata": {},
     "output_type": "execute_result"
    }
   ],
   "source": [
    "f_y_r,f_a,f_x_21,f_y_21 = symbols('f_y_r f_a f_x_21 f_y_21')\n",
    "f_roll = Matrix([f_x_roll,0,0])\n",
    "f_air  = Matrix([f_a,0,0])\n",
    "f_drive = Matrix([f_x_drive,0,0])\n",
    "f_steer_r = Matrix([0,f_y_r,0])\n",
    "f_trailer = Matrix([f_x_21,f_y_21,0])\n",
    "\n",
    "f_tot_1 = R_truck*(f_roll+f_drive+f_steer_r+f_air) + f_steer_wor + R_trailer*f_trailer\n",
    "f_tot_1"
   ]
  },
  {
   "cell_type": "markdown",
   "metadata": {},
   "source": [
    "$$ m_i.J_{Ti}.\\ddot{q} + m_i.\\dot{J_{Ti}}.\\dot{q} + m_i\\dot{\\bar{v_{si}}} = f_{iP} $$"
   ]
  },
  {
   "cell_type": "code",
   "execution_count": 54,
   "metadata": {},
   "outputs": [],
   "source": [
    "ma_truck = m_truck*j_trans_truck*q_ddot+m_truck*j_trans_truck_dot*q_dot "
   ]
  },
  {
   "cell_type": "markdown",
   "metadata": {},
   "source": [
    "## Translation of the truck"
   ]
  },
  {
   "cell_type": "code",
   "execution_count": 55,
   "metadata": {
    "scrolled": true
   },
   "outputs": [
    {
     "data": {
      "text/latex": [
       "$\\displaystyle \\left[\\begin{matrix}\\ddot{x} m_{truck}\\\\\\ddot{y} m_{truck}\\\\0\\end{matrix}\\right] = \\left[\\begin{matrix}- f_{steer} \\sin{\\left(\\delta + \\psi_{1} \\right)} + f_{x 21} \\cos{\\left(\\psi_{2} \\right)} - f_{y 21} \\sin{\\left(\\psi_{2} \\right)} - f_{y r} \\sin{\\left(\\psi_{1} \\right)} + \\left(f_{a} + f_{x drive} + f_{x roll}\\right) \\cos{\\left(\\psi_{1} \\right)}\\\\f_{steer} \\cos{\\left(\\delta + \\psi_{1} \\right)} + f_{x 21} \\sin{\\left(\\psi_{2} \\right)} + f_{y 21} \\cos{\\left(\\psi_{2} \\right)} + f_{y r} \\cos{\\left(\\psi_{1} \\right)} + \\left(f_{a} + f_{x drive} + f_{x roll}\\right) \\sin{\\left(\\psi_{1} \\right)}\\\\0\\end{matrix}\\right]$"
      ],
      "text/plain": [
       "Eq(Matrix([\n",
       "[\\ddot{x}*m_truck],\n",
       "[\\ddot{y}*m_truck],\n",
       "[               0]]), Matrix([\n",
       "[-f_steer*sin(delta + psi_1) + f_x_21*cos(psi_2) - f_y_21*sin(psi_2) - f_y_r*sin(psi_1) + (f_a + f_x_drive + f_x_roll)*cos(psi_1)],\n",
       "[ f_steer*cos(delta + psi_1) + f_x_21*sin(psi_2) + f_y_21*cos(psi_2) + f_y_r*cos(psi_1) + (f_a + f_x_drive + f_x_roll)*sin(psi_1)],\n",
       "[                                                                                                                               0]]))"
      ]
     },
     "execution_count": 55,
     "metadata": {},
     "output_type": "execute_result"
    }
   ],
   "source": [
    "Eq(ma_truck,f_tot_1)"
   ]
  },
  {
   "cell_type": "markdown",
   "metadata": {},
   "source": [
    "## Equation of Rotational motion of truck"
   ]
  },
  {
   "cell_type": "code",
   "execution_count": 56,
   "metadata": {
    "scrolled": true
   },
   "outputs": [
    {
     "data": {
      "text/latex": [
       "$\\displaystyle \\left[\\begin{matrix}0\\\\0\\\\Izz_{truck} \\ddot{\\psi_1}\\end{matrix}\\right] = \\left[\\begin{matrix}0\\\\0\\\\f_{steer} l_{f1} \\cos{\\left(\\delta \\right)} - f_{y r} l_{r1} - l_{h} \\left(- f_{x 21} \\sin{\\left(\\psi_{1} - \\psi_{2} \\right)} + f_{y 21} \\cos{\\left(\\psi_{1} - \\psi_{2} \\right)}\\right)\\end{matrix}\\right]$"
      ],
      "text/plain": [
       "Eq(Matrix([\n",
       "[                      0],\n",
       "[                      0],\n",
       "[Izz_truck*\\ddot{\\psi_1}]]), Matrix([\n",
       "[                                                                                                  0],\n",
       "[                                                                                                  0],\n",
       "[f_steer*l_f1*cos(delta) - f_y_r*l_r1 - l_h*(-f_x_21*sin(psi_1 - psi_2) + f_y_21*cos(psi_1 - psi_2))]]))"
      ]
     },
     "execution_count": 56,
     "metadata": {},
     "output_type": "execute_result"
    }
   ],
   "source": [
    "l_f1,l_r1,theta = symbols('l_f1 l_r1 theta')\n",
    "\n",
    "r_f_b1 = Matrix([l_f1,0,0])\n",
    "r_r_b1 = Matrix([-l_r1,0,0])\n",
    "theta = psi_2 - psi_1\n",
    "R_theta =  Matrix([[cos(theta),-sin(theta),0],[sin(theta),cos(theta),0],[0,0,1]])\n",
    "\n",
    "f_front = f_steer_truck + f_roll + f_air\n",
    "f_rear = f_drive + f_steer_r\n",
    "\n",
    "f_trailer_b1 = R_theta*f_trailer\n",
    "\n",
    "M_truck_wor = r_f_b1.cross(f_front) + r_r_b1.cross(f_rear) + r_hitch_truck.cross(f_trailer_b1)\n",
    "\n",
    "Ixx_truck,Iyy_truck,Izz_truck = symbols('Ixx_truck Iyy_truck Izz_truck ')\n",
    "\n",
    "I_truck_body = Matrix([[Ixx_truck,0,0],[0,Iyy_truck,0],[0,0,Izz_truck]])\n",
    "I_truck_wor = R_truck*I_truck_body*R_truck.transpose()\n",
    "w_hat_truck = Matrix([[0,-psi_1_dot,0],[psi_1_dot,0,0],[0,0,0]])\n",
    "I_alpha_truck = I_truck_wor*w_dot_truck + w_hat_truck*I_truck_wor*w_truck\n",
    "Eq(I_alpha_truck,M_truck_wor)"
   ]
  },
  {
   "cell_type": "code",
   "execution_count": 57,
   "metadata": {},
   "outputs": [
    {
     "data": {
      "text/latex": [
       "$\\displaystyle \\left[\\begin{matrix}0\\\\0\\\\Izz_{truck} \\ddot{\\psi_1}\\end{matrix}\\right] = \\left[\\begin{matrix}0\\\\0\\\\- l_{f1} \\left(- f_{steer} \\sin{\\left(\\psi_{1} \\right)} \\cos{\\left(\\delta \\right)} + \\left(f_{a} - f_{steer} \\sin{\\left(\\delta \\right)} + f_{x roll}\\right) \\cos{\\left(\\psi_{1} \\right)}\\right) \\sin{\\left(\\psi_{1} \\right)} + l_{f1} \\left(f_{steer} \\cos{\\left(\\delta \\right)} \\cos{\\left(\\psi_{1} \\right)} + \\left(f_{a} - f_{steer} \\sin{\\left(\\delta \\right)} + f_{x roll}\\right) \\sin{\\left(\\psi_{1} \\right)}\\right) \\cos{\\left(\\psi_{1} \\right)} - l_{h} \\left(f_{x 21} \\sin{\\left(\\psi_{2} \\right)} + f_{y 21} \\cos{\\left(\\psi_{2} \\right)}\\right) \\cos{\\left(\\psi_{1} \\right)} + l_{h} \\left(f_{x 21} \\cos{\\left(\\psi_{2} \\right)} - f_{y 21} \\sin{\\left(\\psi_{2} \\right)}\\right) \\sin{\\left(\\psi_{1} \\right)} - l_{r1} \\left(f_{x drive} \\sin{\\left(\\psi_{1} \\right)} + f_{y r} \\cos{\\left(\\psi_{1} \\right)}\\right) \\cos{\\left(\\psi_{1} \\right)} + l_{r1} \\left(f_{x drive} \\cos{\\left(\\psi_{1} \\right)} - f_{y r} \\sin{\\left(\\psi_{1} \\right)}\\right) \\sin{\\left(\\psi_{1} \\right)}\\end{matrix}\\right]$"
      ],
      "text/plain": [
       "Eq(Matrix([\n",
       "[                      0],\n",
       "[                      0],\n",
       "[Izz_truck*\\ddot{\\psi_1}]]), Matrix([\n",
       "[                                                                                                                                                                                                                                                                                                                                                                                                                                                  0],\n",
       "[                                                                                                                                                                                                                                                                                                                                                                                                                                                  0],\n",
       "[-l_f1*(-f_steer*sin(psi_1)*cos(delta) + (f_a - f_steer*sin(delta) + f_x_roll)*cos(psi_1))*sin(psi_1) + l_f1*(f_steer*cos(delta)*cos(psi_1) + (f_a - f_steer*sin(delta) + f_x_roll)*sin(psi_1))*cos(psi_1) - l_h*(f_x_21*sin(psi_2) + f_y_21*cos(psi_2))*cos(psi_1) + l_h*(f_x_21*cos(psi_2) - f_y_21*sin(psi_2))*sin(psi_1) - l_r1*(f_x_drive*sin(psi_1) + f_y_r*cos(psi_1))*cos(psi_1) + l_r1*(f_x_drive*cos(psi_1) - f_y_r*sin(psi_1))*sin(psi_1)]]))"
      ]
     },
     "execution_count": 57,
     "metadata": {},
     "output_type": "execute_result"
    }
   ],
   "source": [
    "r_f_i = R_truck*r_f_b1\n",
    "r_r_i = R_truck*r_r_b1\n",
    "\n",
    "f_front_i = R_truck*f_front\n",
    "f_rear_i = R_truck*f_rear\n",
    "f_trailer_i = R_trailer* f_trailer\n",
    "r_hitch_i = R_truck*r_hitch_truck\n",
    "M_truck_i = r_f_i.cross(f_front_i) + r_r_i.cross(f_rear_i) + r_hitch_i.cross(f_trailer_i)\n",
    "#M_truck_i = M_truck_i.simplify()\n",
    "#M_truck_i\n",
    "Eq(I_alpha_truck,M_truck_i)"
   ]
  },
  {
   "cell_type": "code",
   "execution_count": 58,
   "metadata": {},
   "outputs": [
    {
     "data": {
      "text/latex": [
       "$\\displaystyle \\left[\\begin{matrix}0\\\\0\\\\- l_{f1} \\left(- f_{steer} \\sin{\\left(\\psi_{1} \\right)} \\cos{\\left(\\delta \\right)} + \\left(f_{a} - f_{steer} \\sin{\\left(\\delta \\right)} + f_{x roll}\\right) \\cos{\\left(\\psi_{1} \\right)}\\right) \\sin{\\left(\\psi_{1} \\right)} + l_{f1} \\left(f_{steer} \\cos{\\left(\\delta \\right)} \\cos{\\left(\\psi_{1} \\right)} + \\left(f_{a} - f_{steer} \\sin{\\left(\\delta \\right)} + f_{x roll}\\right) \\sin{\\left(\\psi_{1} \\right)}\\right) \\cos{\\left(\\psi_{1} \\right)}\\end{matrix}\\right]$"
      ],
      "text/plain": [
       "Matrix([\n",
       "[                                                                                                                                                                                                        0],\n",
       "[                                                                                                                                                                                                        0],\n",
       "[-l_f1*(-f_steer*sin(psi_1)*cos(delta) + (f_a - f_steer*sin(delta) + f_x_roll)*cos(psi_1))*sin(psi_1) + l_f1*(f_steer*cos(delta)*cos(psi_1) + (f_a - f_steer*sin(delta) + f_x_roll)*sin(psi_1))*cos(psi_1)]])"
      ]
     },
     "execution_count": 58,
     "metadata": {},
     "output_type": "execute_result"
    }
   ],
   "source": [
    "r_f_i.cross(f_front_i) "
   ]
  },
  {
   "cell_type": "code",
   "execution_count": 59,
   "metadata": {},
   "outputs": [
    {
     "data": {
      "text/latex": [
       "$\\displaystyle \\left[\\begin{matrix}0\\\\0\\\\- l_{r1} \\left(f_{x drive} \\sin{\\left(\\psi_{1} \\right)} + f_{y r} \\cos{\\left(\\psi_{1} \\right)}\\right) \\cos{\\left(\\psi_{1} \\right)} + l_{r1} \\left(f_{x drive} \\cos{\\left(\\psi_{1} \\right)} - f_{y r} \\sin{\\left(\\psi_{1} \\right)}\\right) \\sin{\\left(\\psi_{1} \\right)}\\end{matrix}\\right]$"
      ],
      "text/plain": [
       "Matrix([\n",
       "[                                                                                                                     0],\n",
       "[                                                                                                                     0],\n",
       "[-l_r1*(f_x_drive*sin(psi_1) + f_y_r*cos(psi_1))*cos(psi_1) + l_r1*(f_x_drive*cos(psi_1) - f_y_r*sin(psi_1))*sin(psi_1)]])"
      ]
     },
     "execution_count": 59,
     "metadata": {},
     "output_type": "execute_result"
    }
   ],
   "source": [
    "r_r_i.cross(f_rear_i)"
   ]
  },
  {
   "cell_type": "code",
   "execution_count": 60,
   "metadata": {},
   "outputs": [
    {
     "data": {
      "text/latex": [
       "$\\displaystyle \\left[\\begin{matrix}0\\\\0\\\\- l_{h} \\left(f_{x 21} \\sin{\\left(\\psi_{2} \\right)} + f_{y 21} \\cos{\\left(\\psi_{2} \\right)}\\right) \\cos{\\left(\\psi_{1} \\right)} + l_{h} \\left(f_{x 21} \\cos{\\left(\\psi_{2} \\right)} - f_{y 21} \\sin{\\left(\\psi_{2} \\right)}\\right) \\sin{\\left(\\psi_{1} \\right)}\\end{matrix}\\right]$"
      ],
      "text/plain": [
       "Matrix([\n",
       "[                                                                                                               0],\n",
       "[                                                                                                               0],\n",
       "[-l_h*(f_x_21*sin(psi_2) + f_y_21*cos(psi_2))*cos(psi_1) + l_h*(f_x_21*cos(psi_2) - f_y_21*sin(psi_2))*sin(psi_1)]])"
      ]
     },
     "execution_count": 60,
     "metadata": {},
     "output_type": "execute_result"
    }
   ],
   "source": [
    "r_hitch_i.cross(f_trailer_i)"
   ]
  },
  {
   "cell_type": "markdown",
   "metadata": {},
   "source": [
    "## Equation of Translation motion of trailer"
   ]
  },
  {
   "cell_type": "code",
   "execution_count": 61,
   "metadata": {},
   "outputs": [
    {
     "data": {
      "text/latex": [
       "$\\displaystyle \\left[\\begin{matrix}m_{trailer} \\left(\\ddot{\\psi_1} l_{h} \\sin{\\left(\\psi_{1} \\right)} + \\ddot{\\psi_2} l_{f 2} \\sin{\\left(\\psi_{2} \\right)} + \\ddot{x} + \\dot{\\psi_1}^{2} l_{h} \\cos{\\left(\\psi_{1} \\right)} + \\dot{\\psi_2}^{2} l_{f 2} \\cos{\\left(\\psi_{2} \\right)}\\right)\\\\m_{trailer} \\left(- \\ddot{\\psi_1} l_{h} \\cos{\\left(\\psi_{1} \\right)} - \\ddot{\\psi_2} l_{f 2} \\cos{\\left(\\psi_{2} \\right)} + \\ddot{y} + \\dot{\\psi_1}^{2} l_{h} \\sin{\\left(\\psi_{1} \\right)} + \\dot{\\psi_2}^{2} l_{f 2} \\sin{\\left(\\psi_{2} \\right)}\\right)\\\\0\\end{matrix}\\right] = \\left[\\begin{matrix}\\left(f_{x 12} - f_{x r 2}\\right) \\cos{\\left(\\psi_{2} \\right)} - \\left(f_{y 12} - f_{y r 2}\\right) \\sin{\\left(\\psi_{2} \\right)}\\\\\\left(f_{x 12} - f_{x r 2}\\right) \\sin{\\left(\\psi_{2} \\right)} + \\left(f_{y 12} - f_{y r 2}\\right) \\cos{\\left(\\psi_{2} \\right)}\\\\0\\end{matrix}\\right]$"
      ],
      "text/plain": [
       "Eq(Matrix([\n",
       "[ m_trailer*(\\ddot{\\psi_1}*l_h*sin(psi_1) + \\ddot{\\psi_2}*l_f_2*sin(psi_2) + \\ddot{x} + \\dot{\\psi_1}**2*l_h*cos(psi_1) + \\dot{\\psi_2}**2*l_f_2*cos(psi_2))],\n",
       "[m_trailer*(-\\ddot{\\psi_1}*l_h*cos(psi_1) - \\ddot{\\psi_2}*l_f_2*cos(psi_2) + \\ddot{y} + \\dot{\\psi_1}**2*l_h*sin(psi_1) + \\dot{\\psi_2}**2*l_f_2*sin(psi_2))],\n",
       "[                                                                                                                                                        0]]), Matrix([\n",
       "[(f_x_12 - f_x_r_2)*cos(psi_2) - (f_y_12 - f_y_r_2)*sin(psi_2)],\n",
       "[(f_x_12 - f_x_r_2)*sin(psi_2) + (f_y_12 - f_y_r_2)*cos(psi_2)],\n",
       "[                                                            0]]))"
      ]
     },
     "execution_count": 61,
     "metadata": {},
     "output_type": "execute_result"
    }
   ],
   "source": [
    "l_r_2,f_x_12,f_y_12,f_x_r_2,f_y_r_2,m_trailer = symbols('l_r_2 f_x_12 f_y_12 f_x_r_2 f_y_r_2 m_trailer')\n",
    "f_f_2 = Matrix([f_x_12,f_y_12,0])\n",
    "f_r_2 = Matrix([-f_x_r_2,-f_y_r_2,0])\n",
    "\n",
    "f_sum_2_wor = R_trailer*(f_f_2 + f_r_2)\n",
    "Eq(m_trailer*v_dot_trailer_wor,f_sum_2_wor)\n",
    "\n",
    " "
   ]
  },
  {
   "cell_type": "code",
   "execution_count": 62,
   "metadata": {},
   "outputs": [
    {
     "data": {
      "text/latex": [
       "$\\displaystyle \\left[\\begin{matrix}Ixx_{trailer} \\cos^{2}{\\left(\\psi_{2} \\right)} + Iyy_{trailer} \\sin^{2}{\\left(\\psi_{2} \\right)} & Ixx_{trailer} \\sin{\\left(\\psi_{2} \\right)} \\cos{\\left(\\psi_{2} \\right)} - Iyy_{trailer} \\sin{\\left(\\psi_{2} \\right)} \\cos{\\left(\\psi_{2} \\right)} & 0\\\\Ixx_{trailer} \\sin{\\left(\\psi_{2} \\right)} \\cos{\\left(\\psi_{2} \\right)} - Iyy_{trailer} \\sin{\\left(\\psi_{2} \\right)} \\cos{\\left(\\psi_{2} \\right)} & Ixx_{trailer} \\sin^{2}{\\left(\\psi_{2} \\right)} + Iyy_{trailer} \\cos^{2}{\\left(\\psi_{2} \\right)} & 0\\\\0 & 0 & Izz_{trailer}\\end{matrix}\\right]$"
      ],
      "text/plain": [
       "Matrix([\n",
       "[                Ixx_trailer*cos(psi_2)**2 + Iyy_trailer*sin(psi_2)**2, Ixx_trailer*sin(psi_2)*cos(psi_2) - Iyy_trailer*sin(psi_2)*cos(psi_2),           0],\n",
       "[Ixx_trailer*sin(psi_2)*cos(psi_2) - Iyy_trailer*sin(psi_2)*cos(psi_2),                 Ixx_trailer*sin(psi_2)**2 + Iyy_trailer*cos(psi_2)**2,           0],\n",
       "[                                                                    0,                                                                     0, Izz_trailer]])"
      ]
     },
     "execution_count": 62,
     "metadata": {},
     "output_type": "execute_result"
    }
   ],
   "source": [
    "Ixx_trailer,Iyy_trailer,Izz_trailer = symbols('Ixx_trailer Iyy_trailer Izz_trailer ')\n",
    "\n",
    "I_trailer_body = Matrix([[Ixx_trailer,0,0],[0,Iyy_trailer,0],[0,0,Izz_trailer]])\n",
    "I_trailer_wor = R_trailer*I_trailer_body*R_trailer.transpose()\n",
    "I_trailer_wor"
   ]
  },
  {
   "cell_type": "code",
   "execution_count": 63,
   "metadata": {},
   "outputs": [
    {
     "data": {
      "text/latex": [
       "$\\displaystyle \\left[\\begin{matrix}0\\\\0\\\\f_{y 12} l_{f1} + l_{f 2} \\left(- f_{x r 2} \\sin{\\left(\\psi_{2} \\right)} - f_{y r 2} \\cos{\\left(\\psi_{2} \\right)}\\right)\\end{matrix}\\right]$"
      ],
      "text/plain": [
       "Matrix([\n",
       "[                                                             0],\n",
       "[                                                             0],\n",
       "[f_y_12*l_f1 + l_f_2*(-f_x_r_2*sin(psi_2) - f_y_r_2*cos(psi_2))]])"
      ]
     },
     "execution_count": 63,
     "metadata": {},
     "output_type": "execute_result"
    }
   ],
   "source": [
    "\n",
    "f_f_2_i = R_trailer*f_f_2\n",
    "f_r_2_i = R_trailer*f_r_2\n",
    "\n",
    "r_f_b2 = Matrix([l_f_tr,0,0])\n",
    "r_r_b2 = Matrix([l_r_2,0,0])\n",
    "\n",
    "M_trailer_i = r_f_b1.cross(f_f_2) + r_f_b2.cross(f_r_2_i)\n",
    "\n",
    "M_trailer_i\n",
    "\n"
   ]
  },
  {
   "cell_type": "code",
   "execution_count": null,
   "metadata": {},
   "outputs": [],
   "source": []
  }
 ],
 "metadata": {
  "colab": {
   "collapsed_sections": [],
   "name": "TruckTrailer_LateralDynamics.ipynb",
   "provenance": []
  },
  "kernelspec": {
   "display_name": "Python 3 (ipykernel)",
   "language": "python",
   "name": "python3"
  },
  "language_info": {
   "codemirror_mode": {
    "name": "ipython",
    "version": 3
   },
   "file_extension": ".py",
   "mimetype": "text/x-python",
   "name": "python",
   "nbconvert_exporter": "python",
   "pygments_lexer": "ipython3",
   "version": "3.9.2"
  },
  "vscode": {
   "interpreter": {
    "hash": "11938c6bc6919ae2720b4d5011047913343b08a43b18698fd82dedb0d4417594"
   }
  }
 },
 "nbformat": 4,
 "nbformat_minor": 1
}
