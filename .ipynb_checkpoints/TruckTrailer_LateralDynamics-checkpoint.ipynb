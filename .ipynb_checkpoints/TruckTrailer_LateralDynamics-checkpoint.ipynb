{
 "cells": [
  {
   "cell_type": "markdown",
   "metadata": {
    "id": "WDMXcMLiGeJj"
   },
   "source": [
    "![TruckTrailer_LatDyn.png](data:image/png;base64,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)"
   ]
  },
  {
   "cell_type": "code",
   "execution_count": 1,
   "metadata": {
    "id": "lhdBNjbqGnlZ"
   },
   "outputs": [],
   "source": [
    "from sympy import *"
   ]
  },
  {
   "cell_type": "markdown",
   "metadata": {
    "id": "kqEKAbS5LGpX"
   },
   "source": [
    "# Location of Truck,Hitch and Trailer"
   ]
  },
  {
   "cell_type": "code",
   "execution_count": 2,
   "metadata": {
    "id": "YeMUilYFGzGg"
   },
   "outputs": [],
   "source": [
    "x,y,psi_1,theta,q,psi_2 = symbols('x y psi_1 theta q psi_2')"
   ]
  },
  {
   "cell_type": "code",
   "execution_count": 3,
   "metadata": {
    "id": "OGANRqDnHCY2"
   },
   "outputs": [],
   "source": [
    "#psi_2 = psi_1 + theta\n",
    "q = Matrix([x,y,psi_1,psi_2])"
   ]
  },
  {
   "cell_type": "code",
   "execution_count": 4,
   "metadata": {
    "colab": {
     "base_uri": "https://localhost:8080/",
     "height": 98
    },
    "id": "msIyswskHPWq",
    "outputId": "37ec3b36-e20b-4852-f6c6-0af2de0b0255"
   },
   "outputs": [
    {
     "data": {
      "text/latex": [
       "$\\displaystyle \\left[\\begin{matrix}x\\\\y\\\\\\psi_{1}\\\\\\psi_{2}\\end{matrix}\\right]$"
      ],
      "text/plain": [
       "Matrix([\n",
       "[    x],\n",
       "[    y],\n",
       "[psi_1],\n",
       "[psi_2]])"
      ]
     },
     "execution_count": 4,
     "metadata": {},
     "output_type": "execute_result"
    }
   ],
   "source": [
    "q"
   ]
  },
  {
   "cell_type": "code",
   "execution_count": 5,
   "metadata": {
    "colab": {
     "base_uri": "https://localhost:8080/",
     "height": 78
    },
    "id": "CsUMtF9PHbGL",
    "outputId": "6a6823ba-aed0-4588-b36c-2d1f9834c6fd"
   },
   "outputs": [
    {
     "data": {
      "text/latex": [
       "$\\displaystyle \\left[\\begin{matrix}x\\\\y\\\\0\\end{matrix}\\right]$"
      ],
      "text/plain": [
       "Matrix([\n",
       "[x],\n",
       "[y],\n",
       "[0]])"
      ]
     },
     "execution_count": 5,
     "metadata": {},
     "output_type": "execute_result"
    }
   ],
   "source": [
    "r_truck_wor = Matrix([x,y,0])\n",
    "r_truck_wor"
   ]
  },
  {
   "cell_type": "code",
   "execution_count": 6,
   "metadata": {
    "colab": {
     "base_uri": "https://localhost:8080/",
     "height": 78
    },
    "id": "2likPAPqHt1W",
    "outputId": "23362915-026c-46b0-8db5-d185dab33772"
   },
   "outputs": [
    {
     "data": {
      "text/latex": [
       "$\\displaystyle \\left[\\begin{matrix}- l_{h}\\\\0\\\\0\\end{matrix}\\right]$"
      ],
      "text/plain": [
       "Matrix([\n",
       "[-l_h],\n",
       "[   0],\n",
       "[   0]])"
      ]
     },
     "execution_count": 6,
     "metadata": {},
     "output_type": "execute_result"
    }
   ],
   "source": [
    "l_h = symbols('l_h')\n",
    "r_hitch_truck = Matrix([-l_h,0,0])\n",
    "r_hitch_truck"
   ]
  },
  {
   "cell_type": "code",
   "execution_count": 7,
   "metadata": {
    "colab": {
     "base_uri": "https://localhost:8080/",
     "height": 78
    },
    "id": "4wV0luUSIJxD",
    "outputId": "5868a0aa-66f9-438d-eddc-4086d5e020c0"
   },
   "outputs": [
    {
     "data": {
      "text/latex": [
       "$\\displaystyle \\left[\\begin{matrix}\\cos{\\left(\\psi_{1} \\right)} & - \\sin{\\left(\\psi_{1} \\right)} & 0\\\\\\sin{\\left(\\psi_{1} \\right)} & \\cos{\\left(\\psi_{1} \\right)} & 0\\\\0 & 0 & 1\\end{matrix}\\right]$"
      ],
      "text/plain": [
       "Matrix([\n",
       "[cos(psi_1), -sin(psi_1), 0],\n",
       "[sin(psi_1),  cos(psi_1), 0],\n",
       "[         0,           0, 1]])"
      ]
     },
     "execution_count": 7,
     "metadata": {},
     "output_type": "execute_result"
    }
   ],
   "source": [
    "R_truck = Matrix([[cos(psi_1),-sin(psi_1),0],[sin(psi_1),cos(psi_1),0],[0,0,1]])\n",
    "R_truck"
   ]
  },
  {
   "cell_type": "code",
   "execution_count": 8,
   "metadata": {
    "id": "xP3t8UlyIdTG"
   },
   "outputs": [],
   "source": [
    "r_hitch_wor = r_truck_wor + R_truck*r_hitch_truck"
   ]
  },
  {
   "cell_type": "code",
   "execution_count": 9,
   "metadata": {
    "colab": {
     "base_uri": "https://localhost:8080/",
     "height": 78
    },
    "id": "4X7FRuaFJA_J",
    "outputId": "c2fff673-06c3-4867-c9af-fa7db80c7463"
   },
   "outputs": [
    {
     "data": {
      "text/latex": [
       "$\\displaystyle \\left[\\begin{matrix}- l_{h} \\cos{\\left(\\psi_{1} \\right)} + x\\\\- l_{h} \\sin{\\left(\\psi_{1} \\right)} + y\\\\0\\end{matrix}\\right]$"
      ],
      "text/plain": [
       "Matrix([\n",
       "[-l_h*cos(psi_1) + x],\n",
       "[-l_h*sin(psi_1) + y],\n",
       "[                  0]])"
      ]
     },
     "execution_count": 9,
     "metadata": {},
     "output_type": "execute_result"
    }
   ],
   "source": [
    "r_hitch_wor"
   ]
  },
  {
   "cell_type": "code",
   "execution_count": 10,
   "metadata": {
    "colab": {
     "base_uri": "https://localhost:8080/",
     "height": 78
    },
    "id": "x71z0JrDJLaJ",
    "outputId": "a49bd382-e249-4cad-b028-87b610422a9e"
   },
   "outputs": [
    {
     "data": {
      "text/latex": [
       "$\\displaystyle \\left[\\begin{matrix}- l_{f tr}\\\\0\\\\0\\end{matrix}\\right]$"
      ],
      "text/plain": [
       "Matrix([\n",
       "[-l_f_tr],\n",
       "[      0],\n",
       "[      0]])"
      ]
     },
     "execution_count": 10,
     "metadata": {},
     "output_type": "execute_result"
    }
   ],
   "source": [
    "l_f_tr = symbols('l_f_tr')\n",
    "r_trailer_hitch = Matrix([-l_f_tr,0,0])\n",
    "r_trailer_hitch"
   ]
  },
  {
   "cell_type": "code",
   "execution_count": 11,
   "metadata": {
    "colab": {
     "base_uri": "https://localhost:8080/",
     "height": 78
    },
    "id": "S8rfZI4cKGLO",
    "outputId": "38526e1d-2b6a-4a79-dafc-afbc54d10a27"
   },
   "outputs": [
    {
     "data": {
      "text/latex": [
       "$\\displaystyle \\left[\\begin{matrix}\\cos{\\left(\\psi_{2} \\right)} & - \\sin{\\left(\\psi_{2} \\right)} & 0\\\\\\sin{\\left(\\psi_{2} \\right)} & \\cos{\\left(\\psi_{2} \\right)} & 0\\\\0 & 0 & 1\\end{matrix}\\right]$"
      ],
      "text/plain": [
       "Matrix([\n",
       "[cos(psi_2), -sin(psi_2), 0],\n",
       "[sin(psi_2),  cos(psi_2), 0],\n",
       "[         0,           0, 1]])"
      ]
     },
     "execution_count": 11,
     "metadata": {},
     "output_type": "execute_result"
    }
   ],
   "source": [
    "R_trailer = Matrix([[cos(psi_2),-sin(psi_2),0],[sin(psi_2),cos(psi_2),0],[0,0,1]])\n",
    "R_trailer"
   ]
  },
  {
   "cell_type": "code",
   "execution_count": 12,
   "metadata": {
    "id": "6wAvhegmKfWw"
   },
   "outputs": [],
   "source": [
    "r_trailer_wor = r_hitch_wor + R_trailer*r_trailer_hitch"
   ]
  },
  {
   "cell_type": "code",
   "execution_count": 13,
   "metadata": {
    "colab": {
     "base_uri": "https://localhost:8080/",
     "height": 78
    },
    "id": "EkPgcdV6Kyvf",
    "outputId": "1df6151b-18f7-4383-f435-cad33a951ce9"
   },
   "outputs": [
    {
     "data": {
      "text/latex": [
       "$\\displaystyle \\left[\\begin{matrix}- l_{f tr} \\cos{\\left(\\psi_{2} \\right)} - l_{h} \\cos{\\left(\\psi_{1} \\right)} + x\\\\- l_{f tr} \\sin{\\left(\\psi_{2} \\right)} - l_{h} \\sin{\\left(\\psi_{1} \\right)} + y\\\\0\\end{matrix}\\right]$"
      ],
      "text/plain": [
       "Matrix([\n",
       "[-l_f_tr*cos(psi_2) - l_h*cos(psi_1) + x],\n",
       "[-l_f_tr*sin(psi_2) - l_h*sin(psi_1) + y],\n",
       "[                                      0]])"
      ]
     },
     "execution_count": 13,
     "metadata": {},
     "output_type": "execute_result"
    }
   ],
   "source": [
    "r_trailer_wor.expand()\n",
    "r_trailer_wor"
   ]
  },
  {
   "cell_type": "markdown",
   "metadata": {
    "id": "vfTBvUx3LbBZ"
   },
   "source": [
    "# Translation Kinematics\n",
    "\n",
    "## Translation Jacobian of truck and trailer"
   ]
  },
  {
   "cell_type": "code",
   "execution_count": 14,
   "metadata": {
    "id": "M19YDCb_K0CL"
   },
   "outputs": [],
   "source": [
    "j_trans_truck = Matrix(diff(r_truck_wor,x))\n",
    "j_trans_truck = j_trans_truck.col_insert(2,diff(r_truck_wor,y))\n",
    "j_trans_truck = j_trans_truck.col_insert(3,diff(r_truck_wor,psi_1))\n",
    "j_trans_truck = j_trans_truck.col_insert(4,diff(r_truck_wor,psi_2))\n"
   ]
  },
  {
   "cell_type": "code",
   "execution_count": 15,
   "metadata": {
    "colab": {
     "base_uri": "https://localhost:8080/",
     "height": 78
    },
    "id": "dPulEts7N3wU",
    "outputId": "ffccd6fb-ae35-4207-a2e0-e8273ad7d142"
   },
   "outputs": [
    {
     "data": {
      "text/latex": [
       "$\\displaystyle \\left[\\begin{matrix}1 & 0 & 0 & 0\\\\0 & 1 & 0 & 0\\\\0 & 0 & 0 & 0\\end{matrix}\\right]$"
      ],
      "text/plain": [
       "Matrix([\n",
       "[1, 0, 0, 0],\n",
       "[0, 1, 0, 0],\n",
       "[0, 0, 0, 0]])"
      ]
     },
     "execution_count": 15,
     "metadata": {},
     "output_type": "execute_result"
    }
   ],
   "source": [
    "j_trans_truck"
   ]
  },
  {
   "cell_type": "code",
   "execution_count": 16,
   "metadata": {
    "colab": {
     "base_uri": "https://localhost:8080/",
     "height": 78
    },
    "id": "aoziFUycN9DI",
    "outputId": "794523f6-fc57-4c51-c17c-9e28bd8b6cfa"
   },
   "outputs": [
    {
     "data": {
      "text/latex": [
       "$\\displaystyle \\left[\\begin{matrix}1 & 0 & l_{h} \\sin{\\left(\\psi_{1} \\right)} & 0\\\\0 & 1 & - l_{h} \\cos{\\left(\\psi_{1} \\right)} & 0\\\\0 & 0 & 0 & 0\\end{matrix}\\right]$"
      ],
      "text/plain": [
       "Matrix([\n",
       "[1, 0,  l_h*sin(psi_1), 0],\n",
       "[0, 1, -l_h*cos(psi_1), 0],\n",
       "[0, 0,               0, 0]])"
      ]
     },
     "execution_count": 16,
     "metadata": {},
     "output_type": "execute_result"
    }
   ],
   "source": [
    "j_trans_hitch = Matrix(diff(r_hitch_wor,x))\n",
    "j_trans_hitch = j_trans_hitch.col_insert(2,diff(r_hitch_wor,y))\n",
    "j_trans_hitch = j_trans_hitch.col_insert(3,diff(r_hitch_wor,psi_1))\n",
    "j_trans_hitch = j_trans_hitch.col_insert(4,diff(r_hitch_wor,psi_2))\n",
    "j_trans_hitch"
   ]
  },
  {
   "cell_type": "code",
   "execution_count": 17,
   "metadata": {
    "colab": {
     "base_uri": "https://localhost:8080/",
     "height": 78
    },
    "id": "a4mduyD_OAsP",
    "outputId": "ac4752ee-c12f-46c2-e132-96e612ca53fe"
   },
   "outputs": [
    {
     "data": {
      "text/latex": [
       "$\\displaystyle \\left[\\begin{matrix}1 & 0 & l_{h} \\sin{\\left(\\psi_{1} \\right)} & l_{f tr} \\sin{\\left(\\psi_{2} \\right)}\\\\0 & 1 & - l_{h} \\cos{\\left(\\psi_{1} \\right)} & - l_{f tr} \\cos{\\left(\\psi_{2} \\right)}\\\\0 & 0 & 0 & 0\\end{matrix}\\right]$"
      ],
      "text/plain": [
       "Matrix([\n",
       "[1, 0,  l_h*sin(psi_1),  l_f_tr*sin(psi_2)],\n",
       "[0, 1, -l_h*cos(psi_1), -l_f_tr*cos(psi_2)],\n",
       "[0, 0,               0,                  0]])"
      ]
     },
     "execution_count": 17,
     "metadata": {},
     "output_type": "execute_result"
    }
   ],
   "source": [
    "j_trans_trailer = Matrix(diff(r_trailer_wor,x))\n",
    "j_trans_trailer = j_trans_trailer.col_insert(2,diff(r_trailer_wor,y))\n",
    "j_trans_trailer = j_trans_trailer.col_insert(3,diff(r_trailer_wor,psi_1))\n",
    "j_trans_trailer = j_trans_trailer.col_insert(4,diff(r_trailer_wor,psi_2))\n",
    "j_trans_trailer"
   ]
  },
  {
   "cell_type": "code",
   "execution_count": 18,
   "metadata": {
    "id": "tEANtSJBOCa1"
   },
   "outputs": [],
   "source": [
    "q_dot,x_dot,y_dot = symbols('\\dot{q} \\dot{x} \\dot{y}')\n",
    "psi_2_dot = symbols(r\"\\dot{\\psi_2}\")\n",
    "psi_1_dot   = symbols(r\"\\dot{\\psi_1}\")"
   ]
  },
  {
   "cell_type": "code",
   "execution_count": null,
   "metadata": {
    "id": "r4MPJS8ERwX5"
   },
   "outputs": [],
   "source": []
  },
  {
   "cell_type": "code",
   "execution_count": 19,
   "metadata": {
    "id": "NP1Phg1eSmcd"
   },
   "outputs": [],
   "source": [
    "q_dot = Matrix([x_dot,y_dot,psi_1_dot,psi_2_dot])"
   ]
  },
  {
   "cell_type": "code",
   "execution_count": 20,
   "metadata": {
    "colab": {
     "base_uri": "https://localhost:8080/",
     "height": 101
    },
    "id": "NLqrA__FS0x8",
    "outputId": "1b66f9ed-b116-47c2-a270-398c71a41850"
   },
   "outputs": [
    {
     "data": {
      "text/latex": [
       "$\\displaystyle \\left[\\begin{matrix}\\dot{x}\\\\\\dot{y}\\\\\\dot{\\psi_1}\\\\\\dot{\\psi_2}\\end{matrix}\\right]$"
      ],
      "text/plain": [
       "Matrix([\n",
       "[     \\dot{x}],\n",
       "[     \\dot{y}],\n",
       "[\\dot{\\psi_1}],\n",
       "[\\dot{\\psi_2}]])"
      ]
     },
     "execution_count": 20,
     "metadata": {},
     "output_type": "execute_result"
    }
   ],
   "source": [
    "q_dot"
   ]
  },
  {
   "cell_type": "code",
   "execution_count": 21,
   "metadata": {
    "colab": {
     "base_uri": "https://localhost:8080/",
     "height": 81
    },
    "id": "kYwZQRnSTXMW",
    "outputId": "5c0affec-1be3-4b01-ae25-c7fdffd4a817"
   },
   "outputs": [
    {
     "data": {
      "text/latex": [
       "$\\displaystyle \\left[\\begin{matrix}\\dot{\\psi_1} l_{h} \\sin{\\left(\\psi_{1} \\right)} + \\dot{x}\\\\- \\dot{\\psi_1} l_{h} \\cos{\\left(\\psi_{1} \\right)} + \\dot{y}\\\\0\\end{matrix}\\right]$"
      ],
      "text/plain": [
       "Matrix([\n",
       "[ \\dot{\\psi_1}*l_h*sin(psi_1) + \\dot{x}],\n",
       "[-\\dot{\\psi_1}*l_h*cos(psi_1) + \\dot{y}],\n",
       "[                                     0]])"
      ]
     },
     "execution_count": 21,
     "metadata": {},
     "output_type": "execute_result"
    }
   ],
   "source": [
    "v_hitch_wor =  j_trans_hitch*q_dot\n",
    "v_hitch_wor"
   ]
  },
  {
   "cell_type": "code",
   "execution_count": 22,
   "metadata": {
    "colab": {
     "base_uri": "https://localhost:8080/",
     "height": 78
    },
    "id": "YEhbWX5vVoVX",
    "outputId": "b6fe89b4-588b-45bc-919f-e1e6f7afdc9c"
   },
   "outputs": [
    {
     "data": {
      "text/latex": [
       "$\\displaystyle \\left[\\begin{matrix}\\dot{x}\\\\\\dot{y}\\\\0\\end{matrix}\\right]$"
      ],
      "text/plain": [
       "Matrix([\n",
       "[\\dot{x}],\n",
       "[\\dot{y}],\n",
       "[      0]])"
      ]
     },
     "execution_count": 22,
     "metadata": {},
     "output_type": "execute_result"
    }
   ],
   "source": [
    "v_truck_wor = j_trans_truck*q_dot\n",
    "v_truck_wor"
   ]
  },
  {
   "cell_type": "code",
   "execution_count": 23,
   "metadata": {
    "colab": {
     "base_uri": "https://localhost:8080/",
     "height": 81
    },
    "id": "fnWj-vyyVvcw",
    "outputId": "938d682b-155c-4996-8059-260261fefec1"
   },
   "outputs": [
    {
     "data": {
      "text/latex": [
       "$\\displaystyle \\left[\\begin{matrix}\\dot{\\psi_1} l_{h} \\sin{\\left(\\psi_{1} \\right)} + \\dot{\\psi_2} l_{f tr} \\sin{\\left(\\psi_{2} \\right)} + \\dot{x}\\\\- \\dot{\\psi_1} l_{h} \\cos{\\left(\\psi_{1} \\right)} - \\dot{\\psi_2} l_{f tr} \\cos{\\left(\\psi_{2} \\right)} + \\dot{y}\\\\0\\end{matrix}\\right]$"
      ],
      "text/plain": [
       "Matrix([\n",
       "[ \\dot{\\psi_1}*l_h*sin(psi_1) + \\dot{\\psi_2}*l_f_tr*sin(psi_2) + \\dot{x}],\n",
       "[-\\dot{\\psi_1}*l_h*cos(psi_1) - \\dot{\\psi_2}*l_f_tr*cos(psi_2) + \\dot{y}],\n",
       "[                                                                      0]])"
      ]
     },
     "execution_count": 23,
     "metadata": {},
     "output_type": "execute_result"
    }
   ],
   "source": [
    "v_trailer_wor = j_trans_trailer*q_dot\n",
    "v_trailer_wor"
   ]
  },
  {
   "cell_type": "code",
   "execution_count": 24,
   "metadata": {
    "id": "-rsQL1Q-WFmU"
   },
   "outputs": [],
   "source": [
    "q_ddot,x_ddot,y_ddot = symbols('\\ddot{q} \\ddot{x} \\ddot{y}')\n",
    "psi_2_ddot = symbols(r\"\\ddot{\\psi_2}\")\n",
    "psi_1_ddot   = symbols(r\"\\ddot{\\psi_1}\")"
   ]
  },
  {
   "cell_type": "code",
   "execution_count": 25,
   "metadata": {},
   "outputs": [
    {
     "data": {
      "text/latex": [
       "$\\displaystyle \\left[\\begin{matrix}\\ddot{x}\\\\\\ddot{y}\\\\\\ddot{\\psi_1}\\\\\\ddot{\\psi_2}\\end{matrix}\\right]$"
      ],
      "text/plain": [
       "Matrix([\n",
       "[     \\ddot{x}],\n",
       "[     \\ddot{y}],\n",
       "[\\ddot{\\psi_1}],\n",
       "[\\ddot{\\psi_2}]])"
      ]
     },
     "execution_count": 25,
     "metadata": {},
     "output_type": "execute_result"
    }
   ],
   "source": [
    "q_ddot = Matrix([x_ddot,y_ddot,psi_1_ddot,psi_2_ddot])\n",
    "q_ddot"
   ]
  },
  {
   "cell_type": "code",
   "execution_count": 26,
   "metadata": {},
   "outputs": [
    {
     "data": {
      "text/latex": [
       "$\\displaystyle \\left[\\begin{matrix}0 & 0 & 0 & 0\\\\0 & 0 & 0 & 0\\\\0 & 0 & 0 & 0\\end{matrix}\\right]$"
      ],
      "text/plain": [
       "Matrix([\n",
       "[0, 0, 0, 0],\n",
       "[0, 0, 0, 0],\n",
       "[0, 0, 0, 0]])"
      ]
     },
     "execution_count": 26,
     "metadata": {},
     "output_type": "execute_result"
    }
   ],
   "source": [
    "j_trans_truck_dot = Matrix(zeros(3,4))\n",
    "j_trans_truck_dot"
   ]
  },
  {
   "cell_type": "code",
   "execution_count": 27,
   "metadata": {},
   "outputs": [
    {
     "data": {
      "text/latex": [
       "$\\displaystyle \\left[\\begin{matrix}\\ddot{x}\\\\\\ddot{y}\\\\0\\end{matrix}\\right]$"
      ],
      "text/plain": [
       "Matrix([\n",
       "[\\ddot{x}],\n",
       "[\\ddot{y}],\n",
       "[       0]])"
      ]
     },
     "execution_count": 27,
     "metadata": {},
     "output_type": "execute_result"
    }
   ],
   "source": [
    "v_dot_truck_wor = j_trans_truck*q_ddot + j_trans_truck_dot*q_dot\n",
    "v_dot_truck_wor"
   ]
  },
  {
   "cell_type": "code",
   "execution_count": 28,
   "metadata": {},
   "outputs": [
    {
     "data": {
      "text/latex": [
       "$\\displaystyle \\left[\\begin{matrix}0 & 0 & \\dot{\\psi_1} l_{h} \\cos{\\left(\\psi_{1} \\right)} & 0\\\\0 & 0 & \\dot{\\psi_1} l_{h} \\sin{\\left(\\psi_{1} \\right)} & 0\\\\0 & 0 & 0 & 0\\end{matrix}\\right]$"
      ],
      "text/plain": [
       "Matrix([\n",
       "[0, 0, \\dot{\\psi_1}*l_h*cos(psi_1), 0],\n",
       "[0, 0, \\dot{\\psi_1}*l_h*sin(psi_1), 0],\n",
       "[0, 0,                           0, 0]])"
      ]
     },
     "execution_count": 28,
     "metadata": {},
     "output_type": "execute_result"
    }
   ],
   "source": [
    "j_trans_hitch_dot = Matrix([[0,0,l_h*cos(psi_1)*psi_1_dot,0],[0,0,l_h*sin(psi_1)*psi_1_dot,0],[0,0,0,0]])\n",
    "j_trans_hitch_dot"
   ]
  },
  {
   "cell_type": "code",
   "execution_count": 29,
   "metadata": {},
   "outputs": [
    {
     "data": {
      "text/latex": [
       "$\\displaystyle \\left[\\begin{matrix}0 & 0 & \\dot{\\psi_1} l_{h} \\cos{\\left(\\psi_{1} \\right)} & \\dot{\\psi_2} l_{f tr} \\cos{\\left(\\psi_{2} \\right)}\\\\0 & 0 & \\dot{\\psi_1} l_{h} \\sin{\\left(\\psi_{1} \\right)} & \\dot{\\psi_2} l_{f tr} \\sin{\\left(\\psi_{2} \\right)}\\\\0 & 0 & 0 & 0\\end{matrix}\\right]$"
      ],
      "text/plain": [
       "Matrix([\n",
       "[0, 0, \\dot{\\psi_1}*l_h*cos(psi_1), \\dot{\\psi_2}*l_f_tr*cos(psi_2)],\n",
       "[0, 0, \\dot{\\psi_1}*l_h*sin(psi_1), \\dot{\\psi_2}*l_f_tr*sin(psi_2)],\n",
       "[0, 0,                           0,                              0]])"
      ]
     },
     "execution_count": 29,
     "metadata": {},
     "output_type": "execute_result"
    }
   ],
   "source": [
    "j_trans_trailer_dot = Matrix([[0,0,l_h*cos(psi_1)*psi_1_dot,l_f_tr*cos(psi_2)*psi_2_dot],\n",
    "                              [0,0,l_h*sin(psi_1)*psi_1_dot,l_f_tr*sin(psi_2)*psi_2_dot],[0,0,0,0]])\n",
    "j_trans_trailer_dot"
   ]
  },
  {
   "cell_type": "code",
   "execution_count": 30,
   "metadata": {},
   "outputs": [
    {
     "data": {
      "text/latex": [
       "$\\displaystyle \\left[\\begin{matrix}\\ddot{\\psi_1} l_{h} \\sin{\\left(\\psi_{1} \\right)} + \\ddot{x} + \\dot{\\psi_1}^{2} l_{h} \\cos{\\left(\\psi_{1} \\right)}\\\\- \\ddot{\\psi_1} l_{h} \\cos{\\left(\\psi_{1} \\right)} + \\ddot{y} + \\dot{\\psi_1}^{2} l_{h} \\sin{\\left(\\psi_{1} \\right)}\\\\0\\end{matrix}\\right]$"
      ],
      "text/plain": [
       "Matrix([\n",
       "[ \\ddot{\\psi_1}*l_h*sin(psi_1) + \\ddot{x} + \\dot{\\psi_1}**2*l_h*cos(psi_1)],\n",
       "[-\\ddot{\\psi_1}*l_h*cos(psi_1) + \\ddot{y} + \\dot{\\psi_1}**2*l_h*sin(psi_1)],\n",
       "[                                                                        0]])"
      ]
     },
     "execution_count": 30,
     "metadata": {},
     "output_type": "execute_result"
    }
   ],
   "source": [
    "v_dot_hitch_wor = j_trans_hitch *q_ddot + j_trans_hitch_dot*q_dot\n",
    "v_dot_hitch_wor"
   ]
  },
  {
   "cell_type": "code",
   "execution_count": 31,
   "metadata": {},
   "outputs": [
    {
     "data": {
      "text/latex": [
       "$\\displaystyle \\left[\\begin{matrix}\\ddot{\\psi_1} l_{h} \\sin{\\left(\\psi_{1} \\right)} + \\ddot{\\psi_2} l_{f tr} \\sin{\\left(\\psi_{2} \\right)} + \\ddot{x} + \\dot{\\psi_1}^{2} l_{h} \\cos{\\left(\\psi_{1} \\right)} + \\dot{\\psi_2}^{2} l_{f tr} \\cos{\\left(\\psi_{2} \\right)}\\\\- \\ddot{\\psi_1} l_{h} \\cos{\\left(\\psi_{1} \\right)} - \\ddot{\\psi_2} l_{f tr} \\cos{\\left(\\psi_{2} \\right)} + \\ddot{y} + \\dot{\\psi_1}^{2} l_{h} \\sin{\\left(\\psi_{1} \\right)} + \\dot{\\psi_2}^{2} l_{f tr} \\sin{\\left(\\psi_{2} \\right)}\\\\0\\end{matrix}\\right]$"
      ],
      "text/plain": [
       "Matrix([\n",
       "[ \\ddot{\\psi_1}*l_h*sin(psi_1) + \\ddot{\\psi_2}*l_f_tr*sin(psi_2) + \\ddot{x} + \\dot{\\psi_1}**2*l_h*cos(psi_1) + \\dot{\\psi_2}**2*l_f_tr*cos(psi_2)],\n",
       "[-\\ddot{\\psi_1}*l_h*cos(psi_1) - \\ddot{\\psi_2}*l_f_tr*cos(psi_2) + \\ddot{y} + \\dot{\\psi_1}**2*l_h*sin(psi_1) + \\dot{\\psi_2}**2*l_f_tr*sin(psi_2)],\n",
       "[                                                                                                                                              0]])"
      ]
     },
     "execution_count": 31,
     "metadata": {},
     "output_type": "execute_result"
    }
   ],
   "source": [
    "v_dot_trailer_wor = j_trans_trailer*q_ddot + j_trans_trailer_dot*q_dot\n",
    "v_dot_trailer_wor"
   ]
  },
  {
   "cell_type": "code",
   "execution_count": 32,
   "metadata": {},
   "outputs": [
    {
     "data": {
      "text/latex": [
       "$\\displaystyle \\left[\\begin{matrix}0 & 0 & 0\\\\0 & 0 & 0\\\\0 & 0 & 0\\end{matrix}\\right]$"
      ],
      "text/plain": [
       "Matrix([\n",
       "[0, 0, 0],\n",
       "[0, 0, 0],\n",
       "[0, 0, 0]])"
      ]
     },
     "execution_count": 32,
     "metadata": {},
     "output_type": "execute_result"
    }
   ],
   "source": [
    "j_rot_truck_q1 = diff(R_truck,x)*R_truck.transpose()\n",
    "j_rot_truck_q1"
   ]
  },
  {
   "cell_type": "code",
   "execution_count": 33,
   "metadata": {},
   "outputs": [
    {
     "data": {
      "text/latex": [
       "$\\displaystyle \\left[\\begin{matrix}0 & 0 & 0\\\\0 & 0 & 0\\\\0 & 0 & 0\\end{matrix}\\right]$"
      ],
      "text/plain": [
       "Matrix([\n",
       "[0, 0, 0],\n",
       "[0, 0, 0],\n",
       "[0, 0, 0]])"
      ]
     },
     "execution_count": 33,
     "metadata": {},
     "output_type": "execute_result"
    }
   ],
   "source": [
    "j_rot_truck_q2 = diff(R_truck,y)*R_truck.transpose()\n",
    "j_rot_truck_q2"
   ]
  },
  {
   "cell_type": "code",
   "execution_count": 34,
   "metadata": {},
   "outputs": [
    {
     "data": {
      "text/latex": [
       "$\\displaystyle \\left[\\begin{matrix}0 & -1 & 0\\\\1 & 0 & 0\\\\0 & 0 & 0\\end{matrix}\\right]$"
      ],
      "text/plain": [
       "Matrix([\n",
       "[0, -1, 0],\n",
       "[1,  0, 0],\n",
       "[0,  0, 0]])"
      ]
     },
     "execution_count": 34,
     "metadata": {},
     "output_type": "execute_result"
    }
   ],
   "source": [
    "j_rot_truck_q3 = diff(R_truck,psi_1)*R_truck.transpose()\n",
    "j_rot_truck_q3.simplify()\n",
    "j_rot_truck_q3"
   ]
  },
  {
   "cell_type": "code",
   "execution_count": 35,
   "metadata": {},
   "outputs": [
    {
     "data": {
      "text/latex": [
       "$\\displaystyle \\left[\\begin{matrix}0 & 0 & 0\\\\0 & 0 & 0\\\\0 & 0 & 0\\end{matrix}\\right]$"
      ],
      "text/plain": [
       "Matrix([\n",
       "[0, 0, 0],\n",
       "[0, 0, 0],\n",
       "[0, 0, 0]])"
      ]
     },
     "execution_count": 35,
     "metadata": {},
     "output_type": "execute_result"
    }
   ],
   "source": [
    "j_rot_truck_q4 = diff(R_truck,psi_2)*R_truck.transpose()\n",
    "j_rot_truck_q4"
   ]
  },
  {
   "cell_type": "code",
   "execution_count": 36,
   "metadata": {},
   "outputs": [
    {
     "data": {
      "text/latex": [
       "$\\displaystyle \\left[\\begin{matrix}0 & 0 & 0 & 0\\\\0 & 0 & 0 & 0\\\\0 & 0 & 1 & 0\\end{matrix}\\right]$"
      ],
      "text/plain": [
       "Matrix([\n",
       "[0, 0, 0, 0],\n",
       "[0, 0, 0, 0],\n",
       "[0, 0, 1, 0]])"
      ]
     },
     "execution_count": 36,
     "metadata": {},
     "output_type": "execute_result"
    }
   ],
   "source": [
    "j_rot_truck = Matrix([[0,0,0],[0,0,0],[0,0,1],[0,0,0]]).transpose()\n",
    "j_rot_truck"
   ]
  },
  {
   "cell_type": "code",
   "execution_count": 37,
   "metadata": {},
   "outputs": [
    {
     "data": {
      "text/latex": [
       "$\\displaystyle \\left[\\begin{matrix}0 & 0 & 0 & 0\\\\0 & 0 & 0 & 0\\\\0 & 0 & 0 & 0\\end{matrix}\\right]$"
      ],
      "text/plain": [
       "Matrix([\n",
       "[0, 0, 0, 0],\n",
       "[0, 0, 0, 0],\n",
       "[0, 0, 0, 0]])"
      ]
     },
     "execution_count": 37,
     "metadata": {},
     "output_type": "execute_result"
    }
   ],
   "source": [
    "j_rot_truck_dot = zeros(3,4)\n",
    "j_rot_truck_dot"
   ]
  },
  {
   "cell_type": "code",
   "execution_count": 38,
   "metadata": {},
   "outputs": [
    {
     "data": {
      "text/latex": [
       "$\\displaystyle \\left[\\begin{matrix}0 & 0 & 0\\\\0 & 0 & 0\\\\0 & 0 & 0\\end{matrix}\\right]$"
      ],
      "text/plain": [
       "Matrix([\n",
       "[0, 0, 0],\n",
       "[0, 0, 0],\n",
       "[0, 0, 0]])"
      ]
     },
     "execution_count": 38,
     "metadata": {},
     "output_type": "execute_result"
    }
   ],
   "source": [
    "j_rot_trailer_q1 = diff(R_trailer,x)*R_trailer.transpose()\n",
    "j_rot_trailer_q1"
   ]
  },
  {
   "cell_type": "code",
   "execution_count": 39,
   "metadata": {},
   "outputs": [
    {
     "data": {
      "text/latex": [
       "$\\displaystyle \\left[\\begin{matrix}0 & 0 & 0\\\\0 & 0 & 0\\\\0 & 0 & 0\\end{matrix}\\right]$"
      ],
      "text/plain": [
       "Matrix([\n",
       "[0, 0, 0],\n",
       "[0, 0, 0],\n",
       "[0, 0, 0]])"
      ]
     },
     "execution_count": 39,
     "metadata": {},
     "output_type": "execute_result"
    }
   ],
   "source": [
    "j_rot_trailer_q2 = diff(R_trailer,y)*R_trailer.transpose()\n",
    "j_rot_trailer_q2"
   ]
  },
  {
   "cell_type": "code",
   "execution_count": 40,
   "metadata": {},
   "outputs": [
    {
     "data": {
      "text/latex": [
       "$\\displaystyle \\left[\\begin{matrix}0 & 0 & 0\\\\0 & 0 & 0\\\\0 & 0 & 0\\end{matrix}\\right]$"
      ],
      "text/plain": [
       "Matrix([\n",
       "[0, 0, 0],\n",
       "[0, 0, 0],\n",
       "[0, 0, 0]])"
      ]
     },
     "execution_count": 40,
     "metadata": {},
     "output_type": "execute_result"
    }
   ],
   "source": [
    "j_rot_trailer_q3 = diff(R_trailer,psi_1)*R_trailer.transpose()\n",
    "j_rot_trailer_q3"
   ]
  },
  {
   "cell_type": "code",
   "execution_count": 41,
   "metadata": {},
   "outputs": [
    {
     "data": {
      "text/latex": [
       "$\\displaystyle \\left[\\begin{matrix}0 & -1 & 0\\\\1 & 0 & 0\\\\0 & 0 & 0\\end{matrix}\\right]$"
      ],
      "text/plain": [
       "Matrix([\n",
       "[0, -1, 0],\n",
       "[1,  0, 0],\n",
       "[0,  0, 0]])"
      ]
     },
     "execution_count": 41,
     "metadata": {},
     "output_type": "execute_result"
    }
   ],
   "source": [
    "j_rot_trailer_q4 = diff(R_trailer,psi_2)*R_trailer.transpose()\n",
    "j_rot_trailer_q4.simplify()\n",
    "j_rot_trailer_q4"
   ]
  },
  {
   "cell_type": "code",
   "execution_count": 42,
   "metadata": {},
   "outputs": [
    {
     "data": {
      "text/latex": [
       "$\\displaystyle \\left[\\begin{matrix}0 & 0 & 0 & 0\\\\0 & 0 & 0 & 0\\\\0 & 0 & 0 & 1\\end{matrix}\\right]$"
      ],
      "text/plain": [
       "Matrix([\n",
       "[0, 0, 0, 0],\n",
       "[0, 0, 0, 0],\n",
       "[0, 0, 0, 1]])"
      ]
     },
     "execution_count": 42,
     "metadata": {},
     "output_type": "execute_result"
    }
   ],
   "source": [
    "j_rot_trailer = Matrix([[0,0,0],[0,0,0],[0,0,0],[0,0,1]]).transpose()\n",
    "j_rot_trailer"
   ]
  },
  {
   "cell_type": "code",
   "execution_count": 43,
   "metadata": {},
   "outputs": [
    {
     "data": {
      "text/latex": [
       "$\\displaystyle \\left[\\begin{matrix}0 & 0 & 0 & 0\\\\0 & 0 & 0 & 0\\\\0 & 0 & 0 & 0\\end{matrix}\\right]$"
      ],
      "text/plain": [
       "Matrix([\n",
       "[0, 0, 0, 0],\n",
       "[0, 0, 0, 0],\n",
       "[0, 0, 0, 0]])"
      ]
     },
     "execution_count": 43,
     "metadata": {},
     "output_type": "execute_result"
    }
   ],
   "source": [
    "j_rot_trailer_dot = zeros(3,4)\n",
    "j_rot_trailer_dot"
   ]
  },
  {
   "cell_type": "code",
   "execution_count": 44,
   "metadata": {},
   "outputs": [
    {
     "data": {
      "text/latex": [
       "$\\displaystyle \\left[\\begin{matrix}0\\\\0\\\\\\psi_{1}\\end{matrix}\\right]$"
      ],
      "text/plain": [
       "Matrix([\n",
       "[    0],\n",
       "[    0],\n",
       "[psi_1]])"
      ]
     },
     "execution_count": 44,
     "metadata": {},
     "output_type": "execute_result"
    }
   ],
   "source": [
    "w_truck = j_rot_truck*q\n",
    "w_truck"
   ]
  },
  {
   "cell_type": "code",
   "execution_count": 45,
   "metadata": {},
   "outputs": [
    {
     "data": {
      "text/latex": [
       "$\\displaystyle \\left[\\begin{matrix}0\\\\0\\\\\\psi_{2}\\end{matrix}\\right]$"
      ],
      "text/plain": [
       "Matrix([\n",
       "[    0],\n",
       "[    0],\n",
       "[psi_2]])"
      ]
     },
     "execution_count": 45,
     "metadata": {},
     "output_type": "execute_result"
    }
   ],
   "source": [
    "w_trailer = j_rot_trailer*q\n",
    "w_trailer"
   ]
  },
  {
   "cell_type": "code",
   "execution_count": 46,
   "metadata": {},
   "outputs": [
    {
     "data": {
      "text/latex": [
       "$\\displaystyle \\left[\\begin{matrix}0\\\\0\\\\\\dot{\\psi_1}\\end{matrix}\\right]$"
      ],
      "text/plain": [
       "Matrix([\n",
       "[           0],\n",
       "[           0],\n",
       "[\\dot{\\psi_1}]])"
      ]
     },
     "execution_count": 46,
     "metadata": {},
     "output_type": "execute_result"
    }
   ],
   "source": [
    "w_dot_truck = j_rot_truck*q_dot + j_rot_truck_dot*q\n",
    "w_dot_truck"
   ]
  },
  {
   "cell_type": "code",
   "execution_count": 47,
   "metadata": {},
   "outputs": [
    {
     "data": {
      "text/latex": [
       "$\\displaystyle \\left[\\begin{matrix}0\\\\0\\\\\\dot{\\psi_2}\\end{matrix}\\right]$"
      ],
      "text/plain": [
       "Matrix([\n",
       "[           0],\n",
       "[           0],\n",
       "[\\dot{\\psi_2}]])"
      ]
     },
     "execution_count": 47,
     "metadata": {},
     "output_type": "execute_result"
    }
   ],
   "source": [
    "w_dot_trailer = j_rot_trailer*q_dot + j_rot_trailer_dot*q\n",
    "w_dot_trailer"
   ]
  },
  {
   "cell_type": "code",
   "execution_count": 51,
   "metadata": {},
   "outputs": [],
   "source": [
    "j_total = j_trans_truck.transpose().row_join(j_trans_trailer.transpose())\n",
    "j_total = j_total.row_join(j_rot_truck.transpose())\n",
    "j_total = j_total.row_join(j_rot_trailer.transpose())"
   ]
  },
  {
   "cell_type": "code",
   "execution_count": 55,
   "metadata": {},
   "outputs": [
    {
     "data": {
      "text/latex": [
       "$\\displaystyle \\left[\\begin{array}{cccccccccccc}1 & 0 & 0 & 1 & 0 & 0 & 0 & 0 & 0 & 0 & 0 & 0\\\\0 & 1 & 0 & 0 & 1 & 0 & 0 & 0 & 0 & 0 & 0 & 0\\\\0 & 0 & 0 & l_{h} \\sin{\\left(\\psi_{1} \\right)} & - l_{h} \\cos{\\left(\\psi_{1} \\right)} & 0 & 0 & 0 & 1 & 0 & 0 & 0\\\\0 & 0 & 0 & l_{f tr} \\sin{\\left(\\psi_{2} \\right)} & - l_{f tr} \\cos{\\left(\\psi_{2} \\right)} & 0 & 0 & 0 & 0 & 0 & 0 & 1\\end{array}\\right]$"
      ],
      "text/plain": [
       "Matrix([\n",
       "[1, 0, 0,                 1,                  0, 0, 0, 0, 0, 0, 0, 0],\n",
       "[0, 1, 0,                 0,                  1, 0, 0, 0, 0, 0, 0, 0],\n",
       "[0, 0, 0,    l_h*sin(psi_1),    -l_h*cos(psi_1), 0, 0, 0, 1, 0, 0, 0],\n",
       "[0, 0, 0, l_f_tr*sin(psi_2), -l_f_tr*cos(psi_2), 0, 0, 0, 0, 0, 0, 1]])"
      ]
     },
     "execution_count": 55,
     "metadata": {},
     "output_type": "execute_result"
    }
   ],
   "source": [
    "j_total"
   ]
  },
  {
   "cell_type": "code",
   "execution_count": 60,
   "metadata": {},
   "outputs": [
    {
     "data": {
      "text/latex": [
       "$\\displaystyle \\left[\\begin{matrix}Ixx_{truck} & 0 & 0\\\\0 & Iyy_{truck} & 0\\\\0 & 0 & Izz_{truck}\\end{matrix}\\right]$"
      ],
      "text/plain": [
       "Matrix([\n",
       "[Ixx_truck,         0,         0],\n",
       "[        0, Iyy_truck,         0],\n",
       "[        0,         0, Izz_truck]])"
      ]
     },
     "execution_count": 60,
     "metadata": {},
     "output_type": "execute_result"
    }
   ],
   "source": [
    "m_truck,Ixx_truck,Iyy_truck,Izz_truck = symbols('m_truck Ixx_truck Iyy_truck Izz_truck ')\n",
    "\n",
    "I_truck_body = Matrix([[Ixx_truck,0,0],[0,Iyy_truck,0],[0,0,Izz_truck]])\n",
    "\n",
    "I_truck_body"
   ]
  },
  {
   "cell_type": "code",
   "execution_count": 63,
   "metadata": {},
   "outputs": [
    {
     "data": {
      "text/latex": [
       "$\\displaystyle \\left[\\begin{matrix}Ixx_{truck} \\cos^{2}{\\left(\\psi_{1} \\right)} + Iyy_{truck} \\sin^{2}{\\left(\\psi_{1} \\right)} & \\frac{\\left(Ixx_{truck} - Iyy_{truck}\\right) \\sin{\\left(2 \\psi_{1} \\right)}}{2} & 0\\\\\\frac{\\left(Ixx_{truck} - Iyy_{truck}\\right) \\sin{\\left(2 \\psi_{1} \\right)}}{2} & Ixx_{truck} \\sin^{2}{\\left(\\psi_{1} \\right)} + Iyy_{truck} \\cos^{2}{\\left(\\psi_{1} \\right)} & 0\\\\0 & 0 & Izz_{truck}\\end{matrix}\\right]$"
      ],
      "text/plain": [
       "Matrix([\n",
       "[Ixx_truck*cos(psi_1)**2 + Iyy_truck*sin(psi_1)**2,            (Ixx_truck - Iyy_truck)*sin(2*psi_1)/2,         0],\n",
       "[           (Ixx_truck - Iyy_truck)*sin(2*psi_1)/2, Ixx_truck*sin(psi_1)**2 + Iyy_truck*cos(psi_1)**2,         0],\n",
       "[                                                0,                                                 0, Izz_truck]])"
      ]
     },
     "execution_count": 63,
     "metadata": {},
     "output_type": "execute_result"
    }
   ],
   "source": [
    "I_truck_wor = R_truck*I_truck_body*R_truck.transpose()\n",
    "I_truck_wor.simplify()\n",
    "I_truck_wor"
   ]
  },
  {
   "cell_type": "code",
   "execution_count": null,
   "metadata": {},
   "outputs": [],
   "source": []
  }
 ],
 "metadata": {
  "colab": {
   "collapsed_sections": [],
   "name": "TruckTrailer_LateralDynamics.ipynb",
   "provenance": []
  },
  "kernelspec": {
   "display_name": "Python 3 (ipykernel)",
   "language": "python",
   "name": "python3"
  },
  "language_info": {
   "codemirror_mode": {
    "name": "ipython",
    "version": 3
   },
   "file_extension": ".py",
   "mimetype": "text/x-python",
   "name": "python",
   "nbconvert_exporter": "python",
   "pygments_lexer": "ipython3",
   "version": "3.9.2"
  }
 },
 "nbformat": 4,
 "nbformat_minor": 1
}
